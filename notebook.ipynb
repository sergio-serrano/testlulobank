{
 "cells": [
  {
   "cell_type": "markdown",
   "source": "### 1. Obtener información del siguiente API Rest http://api.tvmaze.com trayendo todas las series que se emitieron en diciembre del 2020.\n### Ayuda: \npara obtener las series emitidas el 29 de mayo del 2020 se utilizó el siguiente\nllamado http://api.tvmaze.com/schedule/web?date=2020-05-29",
   "metadata": {
    "cell_id": "fa5bd98a9c544c7f9eadf6bef354e7b9",
    "tags": [],
    "deepnote_cell_type": "markdown",
    "deepnote_cell_height": 206.78125
   }
  },
  {
   "cell_type": "code",
   "metadata": {
    "cell_id": "411d3a71abb04b7fb71ad984bb687898",
    "tags": [],
    "deepnote_to_be_reexecuted": false,
    "source_hash": "44370430",
    "execution_start": 1656870068457,
    "execution_millis": 15247,
    "deepnote_cell_type": "code",
    "deepnote_cell_height": 2008
   },
   "source": "import requests\nimport json\nimport pandas as pd\n\n\nfecha_inicial = '2020-12-01'\nfecha_final = '2020-12-31'\n\n# función para obtener rango de fechas\ndef rango_fechas(fecha_inicial, fecha_final):\n      fechas = pd.date_range(fecha_inicial,fecha_final)\n      return fechas.strftime(\"%Y-%m-%d\")\n  \n\n# consumir api                          \ndef consumir_api(fecha):\n    url = f\"https://api.tvmaze.com/schedule/web?date={fecha}\"\n    print(url)\n    response = requests.get(url)\n    data_json = json.loads(response.text)\n    return data_json\n            \n# obtener rango de fecha de diciembre de 2020\nrf= rango_fechas(fecha_inicial,fecha_final)\n\n\n# acumular dataframe\nfor i in range(0,31):   \n\n## validar si es la primera iteracion para crear el dataframe acumulado, si no agregar el resultado de la api\n##  al dataframe acumulado ya existente.\n\n   if i==0:\n       df_acumulado = pd.DataFrame() \n       df_acumulado = pd.DataFrame(consumir_api(rf[i]))\n       print(\"Primer Valor\")\n   else:\n       resultado  = pd.DataFrame(consumir_api(rf[i]))\n       df_acumulado=df_acumulado.append(resultado)\n       print(\"Segundo Valor\")\n       df_acumulado=df_acumulado.append(resultado)\n\ndf_acumulado",
   "execution_count": null,
   "outputs": [
    {
     "name": "stdout",
     "text": "https://api.tvmaze.com/schedule/web?date=2020-12-01\nPrimer Valor\nhttps://api.tvmaze.com/schedule/web?date=2020-12-02\nSegundo Valor\nhttps://api.tvmaze.com/schedule/web?date=2020-12-03\nSegundo Valor\nhttps://api.tvmaze.com/schedule/web?date=2020-12-04\nSegundo Valor\nhttps://api.tvmaze.com/schedule/web?date=2020-12-05\nSegundo Valor\nhttps://api.tvmaze.com/schedule/web?date=2020-12-06\nSegundo Valor\nhttps://api.tvmaze.com/schedule/web?date=2020-12-07\nSegundo Valor\nhttps://api.tvmaze.com/schedule/web?date=2020-12-08\nSegundo Valor\nhttps://api.tvmaze.com/schedule/web?date=2020-12-09\nSegundo Valor\nhttps://api.tvmaze.com/schedule/web?date=2020-12-10\nSegundo Valor\nhttps://api.tvmaze.com/schedule/web?date=2020-12-11\nSegundo Valor\nhttps://api.tvmaze.com/schedule/web?date=2020-12-12\nSegundo Valor\nhttps://api.tvmaze.com/schedule/web?date=2020-12-13\nSegundo Valor\nhttps://api.tvmaze.com/schedule/web?date=2020-12-14\nSegundo Valor\nhttps://api.tvmaze.com/schedule/web?date=2020-12-15\nSegundo Valor\nhttps://api.tvmaze.com/schedule/web?date=2020-12-16\nSegundo Valor\nhttps://api.tvmaze.com/schedule/web?date=2020-12-17\nSegundo Valor\nhttps://api.tvmaze.com/schedule/web?date=2020-12-18\nSegundo Valor\nhttps://api.tvmaze.com/schedule/web?date=2020-12-19\nSegundo Valor\nhttps://api.tvmaze.com/schedule/web?date=2020-12-20\nSegundo Valor\nhttps://api.tvmaze.com/schedule/web?date=2020-12-21\nSegundo Valor\nhttps://api.tvmaze.com/schedule/web?date=2020-12-22\nSegundo Valor\nhttps://api.tvmaze.com/schedule/web?date=2020-12-23\nSegundo Valor\nhttps://api.tvmaze.com/schedule/web?date=2020-12-24\nSegundo Valor\nhttps://api.tvmaze.com/schedule/web?date=2020-12-25\nSegundo Valor\nhttps://api.tvmaze.com/schedule/web?date=2020-12-26\nSegundo Valor\nhttps://api.tvmaze.com/schedule/web?date=2020-12-27\nSegundo Valor\nhttps://api.tvmaze.com/schedule/web?date=2020-12-28\nSegundo Valor\nhttps://api.tvmaze.com/schedule/web?date=2020-12-29\nSegundo Valor\nhttps://api.tvmaze.com/schedule/web?date=2020-12-30\nSegundo Valor\nhttps://api.tvmaze.com/schedule/web?date=2020-12-31\nSegundo Valor\n",
     "output_type": "stream"
    },
    {
     "output_type": "execute_result",
     "execution_count": 1,
     "data": {
      "application/vnd.deepnote.dataframe.v3+json": {
       "column_count": 15,
       "row_count": 5972,
       "columns": [
        {
         "name": "id",
         "dtype": "int64",
         "stats": {
          "unique_count": 3035,
          "nan_count": 0,
          "min": "1732625",
          "max": "2353919",
          "histogram": [
           {
            "bin_start": 1732625,
            "bin_end": 1794754.4,
            "count": 2
           },
           {
            "bin_start": 1794754.4,
            "bin_end": 1856883.8,
            "count": 2
           },
           {
            "bin_start": 1856883.8,
            "bin_end": 1919013.2,
            "count": 10
           },
           {
            "bin_start": 1919013.2,
            "bin_end": 1981142.6,
            "count": 1759
           },
           {
            "bin_start": 1981142.6,
            "bin_end": 2043272,
            "count": 2797
           },
           {
            "bin_start": 2043272,
            "bin_end": 2105401.4,
            "count": 417
           },
           {
            "bin_start": 2105401.4,
            "bin_end": 2167530.8,
            "count": 308
           },
           {
            "bin_start": 2167530.8,
            "bin_end": 2229660.2,
            "count": 290
           },
           {
            "bin_start": 2229660.2,
            "bin_end": 2291789.6,
            "count": 163
           },
           {
            "bin_start": 2291789.6,
            "bin_end": 2353919,
            "count": 224
           }
          ]
         }
        },
        {
         "name": "url",
         "dtype": "object",
         "stats": {
          "unique_count": 3035,
          "nan_count": 0,
          "categories": [
           {
            "name": "https://www.tvmaze.com/episodes/1972782/kontakty-1x28-kontakty-v-telefone-sergea-lazareva-timati-polina-gagarina-vlad-topalov-ida-galic",
            "count": 2
           },
           {
            "name": "https://www.tvmaze.com/episodes/1979223/kotiki-1x03-seria-3",
            "count": 2
           },
           {
            "name": "3033 others",
            "count": 5968
           }
          ]
         }
        },
        {
         "name": "name",
         "dtype": "object",
         "stats": {
          "unique_count": 2088,
          "nan_count": 0,
          "categories": [
           {
            "name": "Episode 1",
            "count": 128
           },
           {
            "name": "Episode 2",
            "count": 128
           },
           {
            "name": "2086 others",
            "count": 5716
           }
          ]
         }
        },
        {
         "name": "season",
         "dtype": "int64",
         "stats": {
          "unique_count": 28,
          "nan_count": 0,
          "min": "1",
          "max": "2020",
          "histogram": [
           {
            "bin_start": 1,
            "bin_end": 202.9,
            "count": 5540
           },
           {
            "bin_start": 202.9,
            "bin_end": 404.8,
            "count": 0
           },
           {
            "bin_start": 404.8,
            "bin_end": 606.7,
            "count": 0
           },
           {
            "bin_start": 606.7,
            "bin_end": 808.6,
            "count": 0
           },
           {
            "bin_start": 808.6,
            "bin_end": 1010.5,
            "count": 0
           },
           {
            "bin_start": 1010.5,
            "bin_end": 1212.4,
            "count": 0
           },
           {
            "bin_start": 1212.4,
            "bin_end": 1414.3,
            "count": 0
           },
           {
            "bin_start": 1414.3,
            "bin_end": 1616.2,
            "count": 0
           },
           {
            "bin_start": 1616.2,
            "bin_end": 1818.1000000000001,
            "count": 0
           },
           {
            "bin_start": 1818.1000000000001,
            "bin_end": 2020,
            "count": 432
           }
          ]
         }
        },
        {
         "name": "number",
         "dtype": "float64",
         "stats": {
          "unique_count": 202,
          "nan_count": 162,
          "min": "1.0",
          "max": "358.0",
          "histogram": [
           {
            "bin_start": 1,
            "bin_end": 36.7,
            "count": 5013
           },
           {
            "bin_start": 36.7,
            "bin_end": 72.4,
            "count": 484
           },
           {
            "bin_start": 72.4,
            "bin_end": 108.10000000000001,
            "count": 114
           },
           {
            "bin_start": 108.10000000000001,
            "bin_end": 143.8,
            "count": 21
           },
           {
            "bin_start": 143.8,
            "bin_end": 179.5,
            "count": 28
           },
           {
            "bin_start": 179.5,
            "bin_end": 215.20000000000002,
            "count": 6
           },
           {
            "bin_start": 215.20000000000002,
            "bin_end": 250.90000000000003,
            "count": 8
           },
           {
            "bin_start": 250.90000000000003,
            "bin_end": 286.6,
            "count": 0
           },
           {
            "bin_start": 286.6,
            "bin_end": 322.3,
            "count": 71
           },
           {
            "bin_start": 322.3,
            "bin_end": 358,
            "count": 65
           }
          ]
         }
        },
        {
         "name": "type",
         "dtype": "object",
         "stats": {
          "unique_count": 3,
          "nan_count": 0,
          "categories": [
           {
            "name": "regular",
            "count": 5810
           },
           {
            "name": "significant_special",
            "count": 90
           },
           {
            "name": "insignificant_special",
            "count": 72
           }
          ]
         }
        },
        {
         "name": "airdate",
         "dtype": "object",
         "stats": {
          "unique_count": 31,
          "nan_count": 0,
          "categories": [
           {
            "name": "2020-12-04",
            "count": 352
           },
           {
            "name": "2020-12-18",
            "count": 340
           },
           {
            "name": "29 others",
            "count": 5280
           }
          ]
         }
        },
        {
         "name": "airtime",
         "dtype": "object",
         "stats": {
          "unique_count": 61,
          "nan_count": 0,
          "categories": [
           {
            "name": "",
            "count": 4202
           },
           {
            "name": "20:00",
            "count": 643
           },
           {
            "name": "59 others",
            "count": 1127
           }
          ]
         }
        },
        {
         "name": "airstamp",
         "dtype": "object",
         "stats": {
          "unique_count": 536,
          "nan_count": 0,
          "categories": [
           {
            "name": "2020-12-18T12:00:00+00:00",
            "count": 204
           },
           {
            "name": "2020-12-04T12:00:00+00:00",
            "count": 194
           },
           {
            "name": "534 others",
            "count": 5574
           }
          ]
         }
        },
        {
         "name": "runtime",
         "dtype": "float64",
         "stats": {
          "unique_count": 112,
          "nan_count": 449,
          "min": "1.0",
          "max": "335.0",
          "histogram": [
           {
            "bin_start": 1,
            "bin_end": 34.4,
            "count": 2856
           },
           {
            "bin_start": 34.4,
            "bin_end": 67.8,
            "count": 2296
           },
           {
            "bin_start": 67.8,
            "bin_end": 101.19999999999999,
            "count": 111
           },
           {
            "bin_start": 101.19999999999999,
            "bin_end": 134.6,
            "count": 208
           },
           {
            "bin_start": 134.6,
            "bin_end": 168,
            "count": 6
           },
           {
            "bin_start": 168,
            "bin_end": 201.39999999999998,
            "count": 24
           },
           {
            "bin_start": 201.39999999999998,
            "bin_end": 234.79999999999998,
            "count": 4
           },
           {
            "bin_start": 234.79999999999998,
            "bin_end": 268.2,
            "count": 6
           },
           {
            "bin_start": 268.2,
            "bin_end": 301.59999999999997,
            "count": 10
           },
           {
            "bin_start": 301.59999999999997,
            "bin_end": 335,
            "count": 2
           }
          ]
         }
        },
        {
         "name": "rating",
         "dtype": "object",
         "stats": {
          "unique_count": 5972,
          "nan_count": 0,
          "categories": [
           {
            "name": "{'average': None}",
            "count": 5383
           },
           {
            "name": "{'average': 8}",
            "count": 63
           },
           {
            "name": "36 others",
            "count": 526
           }
          ]
         }
        },
        {
         "name": "image",
         "dtype": "object",
         "stats": {
          "unique_count": 5972,
          "nan_count": 3982,
          "categories": [
           {
            "name": "{'medium': 'https://static.tvmaze.com/uploads/images/medium_landscape/360/901421.jpg', 'original': 'https://static.tvmaze.com/uploads/images/original_untouched/360/901421.jpg'}",
            "count": 2
           },
           {
            "name": "1007 others",
            "count": 1988
           },
           {
            "name": "Missing",
            "count": 3982
           }
          ]
         }
        },
        {
         "name": "summary",
         "dtype": "object",
         "stats": {
          "unique_count": 884,
          "nan_count": 4214,
          "categories": [
           {
            "name": "<p>On a journey to find love, Chance invites 15 beautiful \"ladies\" into his home. Each week he will put the hopefuls through various challenges to test their compatibility among other things. However, with constant infighting between the contestants, will Chance be able to finally find his happily ever after?</p>",
            "count": 6
           },
           {
            "name": "883 others",
            "count": 1752
           },
           {
            "name": "Missing",
            "count": 4214
           }
          ]
         }
        },
        {
         "name": "_links",
         "dtype": "object",
         "stats": {
          "unique_count": 5972,
          "nan_count": 0,
          "categories": [
           {
            "name": "{'self': {'href': 'https://api.tvmaze.com/episodes/1972782'}}",
            "count": 2
           },
           {
            "name": "{'self': {'href': 'https://api.tvmaze.com/episodes/1979223'}}",
            "count": 2
           },
           {
            "name": "3033 others",
            "count": 5968
           }
          ]
         }
        },
        {
         "name": "_embedded",
         "dtype": "object",
         "stats": {
          "unique_count": 5972,
          "nan_count": 0,
          "categories": [
           {
            "name": "{'show': {'id': 15250, 'url': 'https://www.tvmaze.com/shows/15250/the-young-turks', 'name': 'The Young Turks', 'type': 'News', 'language': 'English', 'genres': [], 'status': 'Running', 'runtime': 120, 'averageRuntime': 120, 'premiered': '2013-12-24', 'ended': None, 'officialSite': 'https://www.tytnetwork.com', 'schedule': {'time': '', 'days': ['Monday', 'Tuesday', 'Wednesday', 'Thursday', 'Friday']}, 'rating': {'average': None}, 'weight': 28, 'network': None, 'webChannel': {'id': 21, 'name': 'YouTube', 'country': None, 'officialSite': 'https://www.youtube.com'}, 'dvdCountry': None, 'externals': {'tvrage': None, 'thetvdb': 278793, 'imdb': 'tt1714810'}, 'image': {'medium': 'https://static.tvmaze.com/uploads/images/medium_portrait/51/129595.jpg', 'original': 'https://static.tvmaze.com/uploads/images/original_untouched/51/129595.jpg'}, 'summary': '<p>A daring, funny, and brutally honest show that covers politics, entertainment, movies, sports, and pop culture.</p>', 'updated': 1648190058, '_links': {'self': {'href': 'https://api.tvmaze.com/shows/15250'}, 'previousepisode': {'href': 'https://api.tvmaze.com/episodes/2301276'}}}}",
            "count": 75
           },
           {
            "name": "{'show': {'id': 55355, 'url': 'https://www.tvmaze.com/shows/55355/90-day-fiance-extras', 'name': '90 Day Fiancé: Extras', 'type': 'Reality', 'language': 'English', 'genres': [], 'status': 'Ended', 'runtime': None, 'averageRuntime': 91, 'premiered': '2020-12-15', 'ended': '2020-12-15', 'officialSite': 'https://www.discoveryplus.co.uk/show/90-day-extras', 'schedule': {'time': '', 'days': []}, 'rating': {'average': None}, 'weight': 28, 'network': None, 'webChannel': {'id': 173, 'name': 'discovery+', 'country': None, 'officialSite': 'https://www.discoveryplus.com/'}, 'dvdCountry': None, 'externals': {'tvrage': None, 'thetvdb': None, 'imdb': None}, 'image': {'medium': 'https://static.tvmaze.com/uploads/images/medium_portrait/317/794301.jpg', 'original': 'https://static.tvmaze.com/uploads/images/original_untouched/317/794301.jpg'}, 'summary': '<p>Relive some of the memorable moments our couples have faced on their journeys so far. From whopping age gaps to complex language barriers, explore their ups and downs as they prepared to embark on their new lives together.</p>', 'updated': 1640112415, '_links': {'self': {'href': 'https://api.tvmaze.com/shows/55355'}, 'previousepisode': {'href': 'https://api.tvmaze.com/episodes/2092988'}}}}",
            "count": 64
           },
           {
            "name": "621 others",
            "count": 5833
           }
          ]
         }
        },
        {
         "name": "_deepnote_index_column",
         "dtype": "int64"
        }
       ],
       "rows": [
        {
         "id": 1979824,
         "url": "https://www.tvmaze.com/episodes/1979824/sim-for-you-4x16-chanyeols-episode-16",
         "name": "Chanyeol's Episode 16",
         "season": 4,
         "number": 16,
         "type": "regular",
         "airdate": "2020-12-01",
         "airtime": "06:00",
         "airstamp": "2020-11-30T21:00:00+00:00",
         "runtime": 16,
         "rating": "{'average': None}",
         "image": "None",
         "summary": "<p><b>#ObtainedAConversationalSkill #WeSetUpATent♥ #ManySmiles</b></p>",
         "_links": "{'self': {'href': 'https://api.tvmaze.com/episodes/1979824'}}",
         "_embedded": "{'show': {'id': 41648, 'url': 'https://www.tvmaze.com/shows/41648/sim-for-you', 'name': 'Sim for You', 'type': 'Reality', 'language': 'Korean', 'genres': [], 'status': 'Running', 'runtime': 16, 'averageRuntime': 16, 'premiered': '2019-03-25', 'ended': None, 'officialSite': 'https://www.vlive.tv/video/121637', 'schedule': {'time': '', 'days': ['Monday', 'Wednesday', 'Friday']}, 'rating': {'average': None}, 'weight': 36, 'network': None, 'webChannel': {'id': 122, 'name': 'V LIVE', 'country': {'name': 'Korea, Republic of', 'code': 'KR', 'timezone': 'Asia/Seoul'}, 'officialSite': 'https://www.vlive.tv/home'}, 'dvdCountry': None, 'externals': {'tvrage': None, 'thetvdb': 361541, 'imdb': None}, 'image': {'medium': 'https://static.tvmaze.com/uploads/images/medium_portrait/190/476668.jpg', 'original': 'https://static.tvmaze.com/uploads/images/original_untouched/190/476668.jpg'}, 'summary': \"<p><b>Sim for You</b> is a reality series that chronicles each EXO member's life and reveal stories from…",
         "_deepnote_index_column": 0
        },
        {
         "id": 1979222,
         "url": "https://www.tvmaze.com/episodes/1979222/kotiki-1x02-seria-2",
         "name": "Серия 2",
         "season": 1,
         "number": 2,
         "type": "regular",
         "airdate": "2020-12-01",
         "airtime": "",
         "airstamp": "2020-12-01T00:00:00+00:00",
         "runtime": 12,
         "rating": "{'average': None}",
         "image": "None",
         "summary": "None",
         "_links": "{'self': {'href': 'https://api.tvmaze.com/episodes/1979222'}}",
         "_embedded": "{'show': {'id': 52198, 'url': 'https://www.tvmaze.com/shows/52198/kotiki', 'name': 'Котики', 'type': 'Scripted', 'language': 'Russian', 'genres': ['Comedy'], 'status': 'Ended', 'runtime': 12, 'averageRuntime': 12, 'premiered': '2020-11-30', 'ended': '2020-12-11', 'officialSite': 'http://epic-media.ru/project/kotiki', 'schedule': {'time': '10:00', 'days': ['Monday', 'Tuesday', 'Wednesday', 'Thursday', 'Friday']}, 'rating': {'average': None}, 'weight': 11, 'network': None, 'webChannel': {'id': 510, 'name': 'Epic Media', 'country': {'name': 'Russian Federation', 'code': 'RU', 'timezone': 'Asia/Kamchatka'}, 'officialSite': None}, 'dvdCountry': None, 'externals': {'tvrage': None, 'thetvdb': 392682, 'imdb': None}, 'image': {'medium': 'https://static.tvmaze.com/uploads/images/medium_portrait/355/888089.jpg', 'original': 'https://static.tvmaze.com/uploads/images/original_untouched/355/888089.jpg'}, 'summary': None, 'updated': 1637555191, '_links': {'self': {'href': 'https://api.tvmaze.com/sho…",
         "_deepnote_index_column": 1
        },
        {
         "id": 2008027,
         "url": "https://www.tvmaze.com/episodes/2008027/lab-s-antonom-belaevym-2x06-lolita",
         "name": "Лолита",
         "season": 2,
         "number": 6,
         "type": "regular",
         "airdate": "2020-12-01",
         "airtime": "",
         "airstamp": "2020-12-01T00:00:00+00:00",
         "runtime": 29,
         "rating": "{'average': None}",
         "image": "{'medium': 'https://static.tvmaze.com/uploads/images/medium_landscape/294/737206.jpg', 'original': 'https://static.tvmaze.com/uploads/images/original_untouched/294/737206.jpg'}",
         "summary": "None",
         "_links": "{'self': {'href': 'https://api.tvmaze.com/episodes/2008027'}}",
         "_embedded": "{'show': {'id': 52933, 'url': 'https://www.tvmaze.com/shows/52933/lab-s-antonom-belaevym', 'name': 'LAB с Антоном Беляевым', 'type': 'Documentary', 'language': 'Russian', 'genres': ['Music'], 'status': 'To Be Determined', 'runtime': 26, 'averageRuntime': 25, 'premiered': '2019-12-17', 'ended': None, 'officialSite': 'https://premier.one/show/lab-laboratoriya-muzyki-antona-belyaeva', 'schedule': {'time': '23:45', 'days': ['Saturday']}, 'rating': {'average': None}, 'weight': 13, 'network': {'id': 308, 'name': 'ТНТ', 'country': {'name': 'Russian Federation', 'code': 'RU', 'timezone': 'Asia/Kamchatka'}, 'officialSite': None}, 'webChannel': {'id': 381, 'name': 'КиноПоиск HD', 'country': {'name': 'Russian Federation', 'code': 'RU', 'timezone': 'Asia/Kamchatka'}, 'officialSite': None}, 'dvdCountry': None, 'externals': {'tvrage': None, 'thetvdb': None, 'imdb': None}, 'image': {'medium': 'https://static.tvmaze.com/uploads/images/medium_portrait/379/948045.jpg', 'original': 'https://static.tvmaz…",
         "_deepnote_index_column": 2
        },
        {
         "id": 1964565,
         "url": "https://www.tvmaze.com/episodes/1964565/core-sense-1x09-episode-9",
         "name": "Episode 9",
         "season": 1,
         "number": 9,
         "type": "regular",
         "airdate": "2020-12-01",
         "airtime": "10:00",
         "airstamp": "2020-12-01T02:00:00+00:00",
         "runtime": 24,
         "rating": "{'average': None}",
         "image": "None",
         "summary": "None",
         "_links": "{'self': {'href': 'https://api.tvmaze.com/episodes/1964565'}}",
         "_embedded": "{'show': {'id': 51336, 'url': 'https://www.tvmaze.com/shows/51336/core-sense', 'name': 'Core Sense', 'type': 'Animation', 'language': 'Chinese', 'genres': ['Action', 'Anime', 'Science-Fiction'], 'status': 'Running', 'runtime': 24, 'averageRuntime': 24, 'premiered': '2020-10-13', 'ended': None, 'officialSite': 'https://www.bilibili.com/bangumi/media/md28223064', 'schedule': {'time': '10:00', 'days': ['Tuesday']}, 'rating': {'average': None}, 'weight': 59, 'network': None, 'webChannel': {'id': 51, 'name': 'Bilibili', 'country': {'name': 'China', 'code': 'CN', 'timezone': 'Asia/Shanghai'}, 'officialSite': None}, 'dvdCountry': None, 'externals': {'tvrage': None, 'thetvdb': None, 'imdb': None}, 'image': {'medium': 'https://static.tvmaze.com/uploads/images/medium_portrait/278/696645.jpg', 'original': 'https://static.tvmaze.com/uploads/images/original_untouched/278/696645.jpg'}, 'summary': \"<p>The power of beginnings, the energy of the core stone; one may find it good, one may find it evil. …",
         "_deepnote_index_column": 3
        },
        {
         "id": 2052503,
         "url": "https://www.tvmaze.com/episodes/2052503/wu-shen-zhu-zai-1x80-episode-80",
         "name": "Episode 80",
         "season": 1,
         "number": 80,
         "type": "regular",
         "airdate": "2020-12-01",
         "airtime": "10:00",
         "airstamp": "2020-12-01T02:00:00+00:00",
         "runtime": 8,
         "rating": "{'average': None}",
         "image": "None",
         "summary": "None",
         "_links": "{'self': {'href': 'https://api.tvmaze.com/episodes/2052503'}}",
         "_embedded": "{'show': {'id': 54033, 'url': 'https://www.tvmaze.com/shows/54033/wu-shen-zhu-zai', 'name': 'Wu Shen Zhu Zai', 'type': 'Animation', 'language': 'Chinese', 'genres': ['Action', 'Adventure', 'Anime', 'Fantasy'], 'status': 'Running', 'runtime': 8, 'averageRuntime': 8, 'premiered': '2020-03-08', 'ended': None, 'officialSite': 'https://v.qq.com/detail/m/7q544xyrava3vxf.html', 'schedule': {'time': '10:00', 'days': ['Tuesday', 'Sunday']}, 'rating': {'average': None}, 'weight': 81, 'network': None, 'webChannel': {'id': 104, 'name': 'Tencent QQ', 'country': {'name': 'China', 'code': 'CN', 'timezone': 'Asia/Shanghai'}, 'officialSite': 'https://v.qq.com/'}, 'dvdCountry': None, 'externals': {'tvrage': None, 'thetvdb': 379070, 'imdb': None}, 'image': {'medium': 'https://static.tvmaze.com/uploads/images/medium_portrait/299/748854.jpg', 'original': 'https://static.tvmaze.com/uploads/images/original_untouched/299/748854.jpg'}, 'summary': \"<p>The protagonist Qin Chen, who was originally the top genius…",
         "_deepnote_index_column": 4
        },
        {
         "id": 2315116,
         "url": "https://www.tvmaze.com/episodes/2315116/sono-koi-mousukoshi-atatamemasuka-1x05-episode-5",
         "name": "Episode 5",
         "season": 1,
         "number": 5,
         "type": "regular",
         "airdate": "2020-12-01",
         "airtime": "",
         "airstamp": "2020-12-01T03:00:00+00:00",
         "runtime": 15,
         "rating": "{'average': None}",
         "image": "None",
         "summary": "None",
         "_links": "{'self': {'href': 'https://api.tvmaze.com/episodes/2315116'}}",
         "_embedded": "{'show': {'id': 61674, 'url': 'https://www.tvmaze.com/shows/61674/sono-koi-mousukoshi-atatamemasuka', 'name': 'Sono koi Mousukoshi Atatamemasuka', 'type': 'Scripted', 'language': 'Japanese', 'genres': ['Romance'], 'status': 'Ended', 'runtime': 15, 'averageRuntime': 15, 'premiered': '2020-10-20', 'ended': '2020-12-22', 'officialSite': 'https://www.paravi.jp/static/koisuko', 'schedule': {'time': '22:00', 'days': ['Tuesday']}, 'rating': {'average': None}, 'weight': 0, 'network': None, 'webChannel': {'id': 342, 'name': 'Paravi', 'country': {'name': 'Japan', 'code': 'JP', 'timezone': 'Asia/Tokyo'}, 'officialSite': None}, 'dvdCountry': None, 'externals': {'tvrage': None, 'thetvdb': 419045, 'imdb': None}, 'image': {'medium': 'https://static.tvmaze.com/uploads/images/medium_portrait/404/1012331.jpg', 'original': 'https://static.tvmaze.com/uploads/images/original_untouched/404/1012331.jpg'}, 'summary': '<p>It\\'s spin-off drama of <b>\"Kono Koi Atatamemasu ka\"</b></p>', 'updated': 1650915213, '_…",
         "_deepnote_index_column": 5
        },
        {
         "id": 1973538,
         "url": "https://www.tvmaze.com/episodes/1973538/please-wait-brother-1x17-episode-17",
         "name": "Episode 17",
         "season": 1,
         "number": 17,
         "type": "regular",
         "airdate": "2020-12-01",
         "airtime": "12:00",
         "airstamp": "2020-12-01T04:00:00+00:00",
         "runtime": 37,
         "rating": "{'average': None}",
         "image": "None",
         "summary": "None",
         "_links": "{'self': {'href': 'https://api.tvmaze.com/episodes/1973538'}}",
         "_embedded": "{'show': {'id': 52038, 'url': 'https://www.tvmaze.com/shows/52038/please-wait-brother', 'name': 'Please Wait, Brother', 'type': 'Scripted', 'language': 'Chinese', 'genres': ['Comedy'], 'status': 'Ended', 'runtime': 37, 'averageRuntime': 37, 'premiered': '2020-11-17', 'ended': '2020-12-08', 'officialSite': None, 'schedule': {'time': '12:00', 'days': ['Tuesday', 'Wednesday', 'Thursday']}, 'rating': {'average': None}, 'weight': 11, 'network': None, 'webChannel': {'id': 104, 'name': 'Tencent QQ', 'country': {'name': 'China', 'code': 'CN', 'timezone': 'Asia/Shanghai'}, 'officialSite': 'https://v.qq.com/'}, 'dvdCountry': None, 'externals': {'tvrage': None, 'thetvdb': None, 'imdb': None}, 'image': {'medium': 'https://static.tvmaze.com/uploads/images/medium_portrait/284/711240.jpg', 'original': 'https://static.tvmaze.com/uploads/images/original_untouched/284/711240.jpg'}, 'summary': None, 'updated': 1607697965, '_links': {'self': {'href': 'https://api.tvmaze.com/shows/52038'}, 'previousepisod…",
         "_deepnote_index_column": 6
        },
        {
         "id": 1973539,
         "url": "https://www.tvmaze.com/episodes/1973539/please-wait-brother-1x18-episode-18",
         "name": "Episode 18",
         "season": 1,
         "number": 18,
         "type": "regular",
         "airdate": "2020-12-01",
         "airtime": "12:00",
         "airstamp": "2020-12-01T04:00:00+00:00",
         "runtime": 37,
         "rating": "{'average': None}",
         "image": "None",
         "summary": "None",
         "_links": "{'self': {'href': 'https://api.tvmaze.com/episodes/1973539'}}",
         "_embedded": "{'show': {'id': 52038, 'url': 'https://www.tvmaze.com/shows/52038/please-wait-brother', 'name': 'Please Wait, Brother', 'type': 'Scripted', 'language': 'Chinese', 'genres': ['Comedy'], 'status': 'Ended', 'runtime': 37, 'averageRuntime': 37, 'premiered': '2020-11-17', 'ended': '2020-12-08', 'officialSite': None, 'schedule': {'time': '12:00', 'days': ['Tuesday', 'Wednesday', 'Thursday']}, 'rating': {'average': None}, 'weight': 11, 'network': None, 'webChannel': {'id': 104, 'name': 'Tencent QQ', 'country': {'name': 'China', 'code': 'CN', 'timezone': 'Asia/Shanghai'}, 'officialSite': 'https://v.qq.com/'}, 'dvdCountry': None, 'externals': {'tvrage': None, 'thetvdb': None, 'imdb': None}, 'image': {'medium': 'https://static.tvmaze.com/uploads/images/medium_portrait/284/711240.jpg', 'original': 'https://static.tvmaze.com/uploads/images/original_untouched/284/711240.jpg'}, 'summary': None, 'updated': 1607697965, '_links': {'self': {'href': 'https://api.tvmaze.com/shows/52038'}, 'previousepisod…",
         "_deepnote_index_column": 7
        },
        {
         "id": 1984264,
         "url": "https://www.tvmaze.com/episodes/1984264/fearless-whispers-1x51-episode-51",
         "name": "Episode 51",
         "season": 1,
         "number": 51,
         "type": "regular",
         "airdate": "2020-12-01",
         "airtime": "",
         "airstamp": "2020-12-01T04:00:00+00:00",
         "runtime": 60,
         "rating": "{'average': None}",
         "image": "None",
         "summary": "None",
         "_links": "{'self': {'href': 'https://api.tvmaze.com/episodes/1984264'}}",
         "_embedded": "{'show': {'id': 52373, 'url': 'https://www.tvmaze.com/shows/52373/fearless-whispers', 'name': 'Fearless Whispers', 'type': 'Scripted', 'language': 'Chinese', 'genres': ['Drama', 'Romance', 'History'], 'status': 'Ended', 'runtime': 60, 'averageRuntime': 60, 'premiered': '2020-11-06', 'ended': '2020-12-01', 'officialSite': None, 'schedule': {'time': '', 'days': ['Monday', 'Tuesday', 'Wednesday', 'Thursday', 'Friday', 'Saturday', 'Sunday']}, 'rating': {'average': None}, 'weight': 14, 'network': {'id': 1282, 'name': 'CCTV-1', 'country': {'name': 'China', 'code': 'CN', 'timezone': 'Asia/Shanghai'}, 'officialSite': None}, 'webChannel': None, 'dvdCountry': None, 'externals': {'tvrage': None, 'thetvdb': 391554, 'imdb': None}, 'image': {'medium': 'https://static.tvmaze.com/uploads/images/medium_portrait/288/721078.jpg', 'original': 'https://static.tvmaze.com/uploads/images/original_untouched/288/721078.jpg'}, 'summary': \"<p>A story revolving around a fresh graduate who holds an idealistic view…",
         "_deepnote_index_column": 8
        },
        {
         "id": 2082171,
         "url": "https://www.tvmaze.com/episodes/2082171/ling-jian-zun-4x28-di128ji",
         "name": "第128集",
         "season": 4,
         "number": 28,
         "type": "regular",
         "airdate": "2020-12-01",
         "airtime": "",
         "airstamp": "2020-12-01T04:00:00+00:00",
         "runtime": 10,
         "rating": "{'average': None}",
         "image": "None",
         "summary": "None",
         "_links": "{'self': {'href': 'https://api.tvmaze.com/episodes/2082171'}}",
         "_embedded": "{'show': {'id': 55016, 'url': 'https://www.tvmaze.com/shows/55016/ling-jian-zun', 'name': 'Ling Jian Zun', 'type': 'Animation', 'language': 'Chinese', 'genres': ['Anime'], 'status': 'Running', 'runtime': 10, 'averageRuntime': 10, 'premiered': '2019-01-15', 'ended': None, 'officialSite': 'https://v.qq.com/x/cover/2w2legt0g8z26al.html', 'schedule': {'time': '', 'days': ['Tuesday', 'Friday']}, 'rating': {'average': None}, 'weight': 56, 'network': None, 'webChannel': {'id': 104, 'name': 'Tencent QQ', 'country': {'name': 'China', 'code': 'CN', 'timezone': 'Asia/Shanghai'}, 'officialSite': 'https://v.qq.com/'}, 'dvdCountry': None, 'externals': {'tvrage': None, 'thetvdb': 364730, 'imdb': None}, 'image': {'medium': 'https://static.tvmaze.com/uploads/images/medium_portrait/311/778535.jpg', 'original': 'https://static.tvmaze.com/uploads/images/original_untouched/311/778535.jpg'}, 'summary': \"<p>The strong man was attacked and returned to his youth. He became the weakest waste young lord. He wil…",
         "_deepnote_index_column": 9
        }
       ]
      },
      "text/plain": "          id                                                url  \\\n0    1979824  https://www.tvmaze.com/episodes/1979824/sim-fo...   \n1    1979222  https://www.tvmaze.com/episodes/1979222/kotiki...   \n2    2008027  https://www.tvmaze.com/episodes/2008027/lab-s-...   \n3    1964565  https://www.tvmaze.com/episodes/1964565/core-s...   \n4    2052503  https://www.tvmaze.com/episodes/2052503/wu-she...   \n..       ...                                                ...   \n125  2005098  https://www.tvmaze.com/episodes/2005098/carl-w...   \n126  2005099  https://www.tvmaze.com/episodes/2005099/carl-w...   \n127  2005100  https://www.tvmaze.com/episodes/2005100/carl-w...   \n128  2005101  https://www.tvmaze.com/episodes/2005101/carl-w...   \n129  2005102  https://www.tvmaze.com/episodes/2005102/carl-w...   \n\n                              name  season  number     type     airdate  \\\n0            Chanyeol's Episode 16       4    16.0  regular  2020-12-01   \n1                          Серия 2       1     2.0  regular  2020-12-01   \n2                           Лолита       2     6.0  regular  2020-12-01   \n3                        Episode 9       1     9.0  regular  2020-12-01   \n4                       Episode 80       1    80.0  regular  2020-12-01   \n..                             ...     ...     ...      ...         ...   \n125             The Nuclear Option       2     8.0  regular  2020-12-31   \n126         Mothers and Their Sons       2     9.0  regular  2020-12-31   \n127  I Don't Want to Lose My Queen       2    10.0  regular  2020-12-31   \n128              Deploy the Drones       2    11.0  regular  2020-12-31   \n129         The Hunt for Brother X       2    12.0  regular  2020-12-31   \n\n    airtime                   airstamp  runtime             rating  \\\n0     06:00  2020-11-30T21:00:00+00:00     16.0  {'average': None}   \n1            2020-12-01T00:00:00+00:00     12.0  {'average': None}   \n2            2020-12-01T00:00:00+00:00     29.0  {'average': None}   \n3     10:00  2020-12-01T02:00:00+00:00     24.0  {'average': None}   \n4     10:00  2020-12-01T02:00:00+00:00      8.0  {'average': None}   \n..      ...                        ...      ...                ...   \n125   21:00  2021-01-01T02:00:00+00:00     60.0  {'average': None}   \n126   21:00  2021-01-01T02:00:00+00:00     60.0  {'average': None}   \n127   21:00  2021-01-01T02:00:00+00:00     60.0  {'average': None}   \n128   21:00  2021-01-01T02:00:00+00:00     60.0  {'average': None}   \n129   21:00  2021-01-01T02:00:00+00:00     60.0  {'average': None}   \n\n                                                 image  \\\n0                                                 None   \n1                                                 None   \n2    {'medium': 'https://static.tvmaze.com/uploads/...   \n3                                                 None   \n4                                                 None   \n..                                                 ...   \n125  {'medium': 'https://static.tvmaze.com/uploads/...   \n126  {'medium': 'https://static.tvmaze.com/uploads/...   \n127  {'medium': 'https://static.tvmaze.com/uploads/...   \n128  {'medium': 'https://static.tvmaze.com/uploads/...   \n129  {'medium': 'https://static.tvmaze.com/uploads/...   \n\n                                               summary  \\\n0    <p><b>#ObtainedAConversationalSkill #WeSetUpAT...   \n1                                                 None   \n2                                                 None   \n3                                                 None   \n4                                                 None   \n..                                                 ...   \n125  <p>The war heats up as the Duncans deploy the ...   \n126  <p>Junior and Sonya make landfall in Cuba. Chi...   \n127  <p>Brother X begins to unravel. Sasha and Elij...   \n128  <p>The war between the Duncans and Brother X i...   \n129  <p>LC must decide Elijah's fate as his sons hu...   \n\n                                                _links  \\\n0    {'self': {'href': 'https://api.tvmaze.com/epis...   \n1    {'self': {'href': 'https://api.tvmaze.com/epis...   \n2    {'self': {'href': 'https://api.tvmaze.com/epis...   \n3    {'self': {'href': 'https://api.tvmaze.com/epis...   \n4    {'self': {'href': 'https://api.tvmaze.com/epis...   \n..                                                 ...   \n125  {'self': {'href': 'https://api.tvmaze.com/epis...   \n126  {'self': {'href': 'https://api.tvmaze.com/epis...   \n127  {'self': {'href': 'https://api.tvmaze.com/epis...   \n128  {'self': {'href': 'https://api.tvmaze.com/epis...   \n129  {'self': {'href': 'https://api.tvmaze.com/epis...   \n\n                                             _embedded  \n0    {'show': {'id': 41648, 'url': 'https://www.tvm...  \n1    {'show': {'id': 52198, 'url': 'https://www.tvm...  \n2    {'show': {'id': 52933, 'url': 'https://www.tvm...  \n3    {'show': {'id': 51336, 'url': 'https://www.tvm...  \n4    {'show': {'id': 54033, 'url': 'https://www.tvm...  \n..                                                 ...  \n125  {'show': {'id': 39441, 'url': 'https://www.tvm...  \n126  {'show': {'id': 39441, 'url': 'https://www.tvm...  \n127  {'show': {'id': 39441, 'url': 'https://www.tvm...  \n128  {'show': {'id': 39441, 'url': 'https://www.tvm...  \n129  {'show': {'id': 39441, 'url': 'https://www.tvm...  \n\n[5972 rows x 15 columns]",
      "text/html": "<div>\n<style scoped>\n    .dataframe tbody tr th:only-of-type {\n        vertical-align: middle;\n    }\n\n    .dataframe tbody tr th {\n        vertical-align: top;\n    }\n\n    .dataframe thead th {\n        text-align: right;\n    }\n</style>\n<table border=\"1\" class=\"dataframe\">\n  <thead>\n    <tr style=\"text-align: right;\">\n      <th></th>\n      <th>id</th>\n      <th>url</th>\n      <th>name</th>\n      <th>season</th>\n      <th>number</th>\n      <th>type</th>\n      <th>airdate</th>\n      <th>airtime</th>\n      <th>airstamp</th>\n      <th>runtime</th>\n      <th>rating</th>\n      <th>image</th>\n      <th>summary</th>\n      <th>_links</th>\n      <th>_embedded</th>\n    </tr>\n  </thead>\n  <tbody>\n    <tr>\n      <th>0</th>\n      <td>1979824</td>\n      <td>https://www.tvmaze.com/episodes/1979824/sim-fo...</td>\n      <td>Chanyeol's Episode 16</td>\n      <td>4</td>\n      <td>16.0</td>\n      <td>regular</td>\n      <td>2020-12-01</td>\n      <td>06:00</td>\n      <td>2020-11-30T21:00:00+00:00</td>\n      <td>16.0</td>\n      <td>{'average': None}</td>\n      <td>None</td>\n      <td>&lt;p&gt;&lt;b&gt;#ObtainedAConversationalSkill #WeSetUpAT...</td>\n      <td>{'self': {'href': 'https://api.tvmaze.com/epis...</td>\n      <td>{'show': {'id': 41648, 'url': 'https://www.tvm...</td>\n    </tr>\n    <tr>\n      <th>1</th>\n      <td>1979222</td>\n      <td>https://www.tvmaze.com/episodes/1979222/kotiki...</td>\n      <td>Серия 2</td>\n      <td>1</td>\n      <td>2.0</td>\n      <td>regular</td>\n      <td>2020-12-01</td>\n      <td></td>\n      <td>2020-12-01T00:00:00+00:00</td>\n      <td>12.0</td>\n      <td>{'average': None}</td>\n      <td>None</td>\n      <td>None</td>\n      <td>{'self': {'href': 'https://api.tvmaze.com/epis...</td>\n      <td>{'show': {'id': 52198, 'url': 'https://www.tvm...</td>\n    </tr>\n    <tr>\n      <th>2</th>\n      <td>2008027</td>\n      <td>https://www.tvmaze.com/episodes/2008027/lab-s-...</td>\n      <td>Лолита</td>\n      <td>2</td>\n      <td>6.0</td>\n      <td>regular</td>\n      <td>2020-12-01</td>\n      <td></td>\n      <td>2020-12-01T00:00:00+00:00</td>\n      <td>29.0</td>\n      <td>{'average': None}</td>\n      <td>{'medium': 'https://static.tvmaze.com/uploads/...</td>\n      <td>None</td>\n      <td>{'self': {'href': 'https://api.tvmaze.com/epis...</td>\n      <td>{'show': {'id': 52933, 'url': 'https://www.tvm...</td>\n    </tr>\n    <tr>\n      <th>3</th>\n      <td>1964565</td>\n      <td>https://www.tvmaze.com/episodes/1964565/core-s...</td>\n      <td>Episode 9</td>\n      <td>1</td>\n      <td>9.0</td>\n      <td>regular</td>\n      <td>2020-12-01</td>\n      <td>10:00</td>\n      <td>2020-12-01T02:00:00+00:00</td>\n      <td>24.0</td>\n      <td>{'average': None}</td>\n      <td>None</td>\n      <td>None</td>\n      <td>{'self': {'href': 'https://api.tvmaze.com/epis...</td>\n      <td>{'show': {'id': 51336, 'url': 'https://www.tvm...</td>\n    </tr>\n    <tr>\n      <th>4</th>\n      <td>2052503</td>\n      <td>https://www.tvmaze.com/episodes/2052503/wu-she...</td>\n      <td>Episode 80</td>\n      <td>1</td>\n      <td>80.0</td>\n      <td>regular</td>\n      <td>2020-12-01</td>\n      <td>10:00</td>\n      <td>2020-12-01T02:00:00+00:00</td>\n      <td>8.0</td>\n      <td>{'average': None}</td>\n      <td>None</td>\n      <td>None</td>\n      <td>{'self': {'href': 'https://api.tvmaze.com/epis...</td>\n      <td>{'show': {'id': 54033, 'url': 'https://www.tvm...</td>\n    </tr>\n    <tr>\n      <th>...</th>\n      <td>...</td>\n      <td>...</td>\n      <td>...</td>\n      <td>...</td>\n      <td>...</td>\n      <td>...</td>\n      <td>...</td>\n      <td>...</td>\n      <td>...</td>\n      <td>...</td>\n      <td>...</td>\n      <td>...</td>\n      <td>...</td>\n      <td>...</td>\n      <td>...</td>\n    </tr>\n    <tr>\n      <th>125</th>\n      <td>2005098</td>\n      <td>https://www.tvmaze.com/episodes/2005098/carl-w...</td>\n      <td>The Nuclear Option</td>\n      <td>2</td>\n      <td>8.0</td>\n      <td>regular</td>\n      <td>2020-12-31</td>\n      <td>21:00</td>\n      <td>2021-01-01T02:00:00+00:00</td>\n      <td>60.0</td>\n      <td>{'average': None}</td>\n      <td>{'medium': 'https://static.tvmaze.com/uploads/...</td>\n      <td>&lt;p&gt;The war heats up as the Duncans deploy the ...</td>\n      <td>{'self': {'href': 'https://api.tvmaze.com/epis...</td>\n      <td>{'show': {'id': 39441, 'url': 'https://www.tvm...</td>\n    </tr>\n    <tr>\n      <th>126</th>\n      <td>2005099</td>\n      <td>https://www.tvmaze.com/episodes/2005099/carl-w...</td>\n      <td>Mothers and Their Sons</td>\n      <td>2</td>\n      <td>9.0</td>\n      <td>regular</td>\n      <td>2020-12-31</td>\n      <td>21:00</td>\n      <td>2021-01-01T02:00:00+00:00</td>\n      <td>60.0</td>\n      <td>{'average': None}</td>\n      <td>{'medium': 'https://static.tvmaze.com/uploads/...</td>\n      <td>&lt;p&gt;Junior and Sonya make landfall in Cuba. Chi...</td>\n      <td>{'self': {'href': 'https://api.tvmaze.com/epis...</td>\n      <td>{'show': {'id': 39441, 'url': 'https://www.tvm...</td>\n    </tr>\n    <tr>\n      <th>127</th>\n      <td>2005100</td>\n      <td>https://www.tvmaze.com/episodes/2005100/carl-w...</td>\n      <td>I Don't Want to Lose My Queen</td>\n      <td>2</td>\n      <td>10.0</td>\n      <td>regular</td>\n      <td>2020-12-31</td>\n      <td>21:00</td>\n      <td>2021-01-01T02:00:00+00:00</td>\n      <td>60.0</td>\n      <td>{'average': None}</td>\n      <td>{'medium': 'https://static.tvmaze.com/uploads/...</td>\n      <td>&lt;p&gt;Brother X begins to unravel. Sasha and Elij...</td>\n      <td>{'self': {'href': 'https://api.tvmaze.com/epis...</td>\n      <td>{'show': {'id': 39441, 'url': 'https://www.tvm...</td>\n    </tr>\n    <tr>\n      <th>128</th>\n      <td>2005101</td>\n      <td>https://www.tvmaze.com/episodes/2005101/carl-w...</td>\n      <td>Deploy the Drones</td>\n      <td>2</td>\n      <td>11.0</td>\n      <td>regular</td>\n      <td>2020-12-31</td>\n      <td>21:00</td>\n      <td>2021-01-01T02:00:00+00:00</td>\n      <td>60.0</td>\n      <td>{'average': None}</td>\n      <td>{'medium': 'https://static.tvmaze.com/uploads/...</td>\n      <td>&lt;p&gt;The war between the Duncans and Brother X i...</td>\n      <td>{'self': {'href': 'https://api.tvmaze.com/epis...</td>\n      <td>{'show': {'id': 39441, 'url': 'https://www.tvm...</td>\n    </tr>\n    <tr>\n      <th>129</th>\n      <td>2005102</td>\n      <td>https://www.tvmaze.com/episodes/2005102/carl-w...</td>\n      <td>The Hunt for Brother X</td>\n      <td>2</td>\n      <td>12.0</td>\n      <td>regular</td>\n      <td>2020-12-31</td>\n      <td>21:00</td>\n      <td>2021-01-01T02:00:00+00:00</td>\n      <td>60.0</td>\n      <td>{'average': None}</td>\n      <td>{'medium': 'https://static.tvmaze.com/uploads/...</td>\n      <td>&lt;p&gt;LC must decide Elijah's fate as his sons hu...</td>\n      <td>{'self': {'href': 'https://api.tvmaze.com/epis...</td>\n      <td>{'show': {'id': 39441, 'url': 'https://www.tvm...</td>\n    </tr>\n  </tbody>\n</table>\n<p>5972 rows × 15 columns</p>\n</div>"
     },
     "metadata": {}
    }
   ]
  },
  {
   "cell_type": "code",
   "metadata": {
    "cell_id": "6efef1a9e66742d8885cb72ac5fa995e",
    "tags": [],
    "deepnote_to_be_reexecuted": false,
    "source_hash": "c3588a0a",
    "execution_start": 1656877683798,
    "execution_millis": 370,
    "deepnote_cell_type": "code"
   },
   "source": "df_acumulado.to_csv('df_acumulado.csv', sep=\"|\")",
   "execution_count": null,
   "outputs": []
  },
  {
   "cell_type": "markdown",
   "source": "### 2. Con base a los Json obtenidos del API generar diferentes dataframes (en cualquier tecnología: pandas, dask, pyspark) que conserven la integridad referencial de los datos del Json.",
   "metadata": {
    "cell_id": "0cd2143ebe4b4cd1a434632c2fd46e40",
    "tags": [],
    "deepnote_cell_type": "markdown"
   }
  },
  {
   "cell_type": "code",
   "metadata": {
    "cell_id": "19639233b0d84a25a1b9c149973cee09",
    "tags": [],
    "deepnote_to_be_reexecuted": false,
    "source_hash": "119f00ad",
    "execution_start": 1656875067873,
    "execution_millis": 2711,
    "deepnote_table_state": {
     "pageSize": 10,
     "pageIndex": 0,
     "filters": [],
     "sortBy": []
    },
    "deepnote_table_loading": false,
    "deepnote_cell_type": "code"
   },
   "source": "\n########################\n#####Dataframe series\n#########################\n\nseries = df_acumulado[['id','url','name','season','number','type','airdate','airtime','airstamp','runtime','summary']]\n#series=series.assign(_links=pd.json_normalize(series[\"_links\"],max_level=1))\n\n\n########################\n#####Dataframe show\n#########################\nnew_data = df_acumulado[['id','_embedded']] # traer campo id y _embedded  como new_data\nembedded= pd.json_normalize(new_data['_embedded'],max_level=1) # normalizar campo _embedded del json\nembedded= embedded.reset_index(drop=True) quitar index para poder concatenar\nnew_data = new_data.reset_index(drop=True) # quitar index para poder concatenar\nshow=pd.concat([new_data,embedded],axis=1) # cancatenar 2 dataframe\n\n\n\n\n\n########################\n#####Dataframe country\n#########################\n\nllave = df_acumulado[['id']]\nnew_datashow= pd.json_normalize(new_data['_embedded'],max_level=3)\nnew_datashow[['show.webChannel.id','show.webChannel.name','show.webChannel.country.name','show.webChannel.country.code','show.webChannel.country.timezone']]\nnew_datashow= new_datashow.reset_index(drop=True)\nllave = llave.reset_index(drop=True)\ncountry=pd.concat([llave,new_datashow],axis=1)\n\n\n\n\n\n\n\n\n\n\n\n",
   "execution_count": null,
   "outputs": []
  },
  {
   "cell_type": "markdown",
   "source": "### 3. Realizar profiling a los DataFrames obtenidos en el punto anterior y realizar un análisis de los datos obtenidos.\n###  a. Se espera el resultado del profiling (documento en PDF o HTML) y el análisis de éste.",
   "metadata": {
    "cell_id": "ec64a92e31394c10a0b676a7b3e10430",
    "tags": [],
    "deepnote_cell_type": "markdown"
   }
  },
  {
   "cell_type": "code",
   "metadata": {
    "cell_id": "215a574513724bea92b1e76a51dc9356",
    "tags": [],
    "deepnote_to_be_reexecuted": true,
    "source_hash": "80b09d5a",
    "execution_start": 1656725349973,
    "execution_millis": 74814,
    "deepnote_cell_type": "code"
   },
   "source": " #!pip install pandas_profiling\nimport pandas_profiling \n\nprofile_series = series.profile_report(title='Pandas Profiling Report') \nprofile_series.to_file(output_file=\"profile_series.html\")\n\nprofile_show = show.profile_report(title='Pandas Profiling Report') \nprofile_show.to_file(output_file=\"profile_show.html\")\n\n\nprofile_country = show.profile_report(title='Pandas Profiling Report') \nprofile_country.to_file(output_file=\"profile_country.html\")\n\n\n",
   "execution_count": null,
   "outputs": [
    {
     "name": "stderr",
     "text": "Summarize dataset: 100%|██████████| 55/55 [00:13<00:00,  4.18it/s, Completed]\nGenerate report structure: 100%|██████████| 1/1 [00:06<00:00,  6.93s/it]\nRender HTML: 100%|██████████| 1/1 [00:01<00:00,  1.28s/it]\nExport report to file: 100%|██████████| 1/1 [00:00<00:00, 91.82it/s]\nSummarize dataset: 100%|██████████| 76/76 [00:15<00:00,  4.79it/s, Completed]\nGenerate report structure: 100%|██████████| 1/1 [00:08<00:00,  8.37s/it]\nRender HTML: 100%|██████████| 1/1 [00:01<00:00,  1.83s/it]\nExport report to file: 100%|██████████| 1/1 [00:00<00:00, 77.00it/s]\nSummarize dataset: 100%|██████████| 76/76 [00:15<00:00,  4.85it/s, Completed]\nGenerate report structure: 100%|██████████| 1/1 [00:08<00:00,  8.31s/it]\nRender HTML: 100%|██████████| 1/1 [00:01<00:00,  1.79s/it]\nExport report to file: 100%|██████████| 1/1 [00:00<00:00, 74.93it/s]\n",
     "output_type": "stream"
    }
   ]
  },
  {
   "cell_type": "markdown",
   "source": "### 4. Realizar operaciones de limpieza (si las considera necesarias) de los datos que están en los dataframes. ",
   "metadata": {
    "cell_id": "2c48e4a77dec49568e3bf91a95ed45be",
    "tags": [],
    "deepnote_cell_type": "markdown"
   }
  },
  {
   "cell_type": "code",
   "metadata": {
    "cell_id": "f11bba5df10145cfaaf646a41c209fa3",
    "tags": [],
    "deepnote_to_be_reexecuted": false,
    "source_hash": "922911a0",
    "execution_start": 1656870085554,
    "execution_millis": 11,
    "deepnote_table_state": {
     "pageSize": 10,
     "pageIndex": 0,
     "filters": [],
     "sortBy": []
    },
    "deepnote_table_loading": false,
    "deepnote_table_invalid": false,
    "deepnote_cell_type": "code"
   },
   "source": "##############################\n##Cleaning dataframe series\n##############################\n\n\nseries = series.drop_duplicates() # eliminar repetidos\n\nseries=series.assign(\n    number=series['number'].fillna(0),\n    airstamp=series['airstamp'].str.slice(0,10),\n    runtime=series['runtime'].fillna(0))\n\n\n\n\n##############################\n##Cleaning dataframe show\n##############################\n\n#show = show.drop_duplicates()\nshow.columns=show.columns.str.replace('show.','') # quitar palabra show. de los nombre de columna\n\n\n\n\n\n\n\n\n",
   "execution_count": null,
   "outputs": []
  },
  {
   "cell_type": "code",
   "metadata": {
    "cell_id": "e783ea17842548c0bcca449367f14bd4",
    "tags": [],
    "deepnote_to_be_reexecuted": false,
    "source_hash": "710045cc",
    "execution_start": 1656877959090,
    "execution_millis": 1408,
    "deepnote_table_state": {
     "pageSize": 10,
     "pageIndex": 0,
     "filters": [],
     "sortBy": []
    },
    "deepnote_table_loading": false,
    "deepnote_cell_type": "code"
   },
   "source": "show[[\"name\",\"type\",\"language\",\"genres\",\"status\",\"runtime\",\"averageRuntime\",\"premiered\"]]\nshowgenres =show[\"genres\"].apply(pd.Series)\nshowgenres = data.rename(columns = lambda x : 'genres_' + str(x))\n\n\n\nshowgenres\n\n\n\n\n\n",
   "execution_count": null,
   "outputs": [
    {
     "output_type": "execute_result",
     "execution_count": 230,
     "data": {
      "application/vnd.deepnote.dataframe.v3+json": {
       "column_count": 4,
       "row_count": 5972,
       "columns": [
        {
         "name": "genres_genres_0",
         "dtype": "object",
         "stats": {
          "unique_count": 22,
          "nan_count": 1450,
          "categories": [
           {
            "name": "Drama",
            "count": 2183
           },
           {
            "name": "21 others",
            "count": 2339
           },
           {
            "name": "Missing",
            "count": 1450
           }
          ]
         }
        },
        {
         "name": "genres_genres_1",
         "dtype": "object",
         "stats": {
          "unique_count": 22,
          "nan_count": 2778,
          "categories": [
           {
            "name": "Romance",
            "count": 758
           },
           {
            "name": "21 others",
            "count": 2436
           },
           {
            "name": "Missing",
            "count": 2778
           }
          ]
         }
        },
        {
         "name": "genres_genres_2",
         "dtype": "object",
         "stats": {
          "unique_count": 21,
          "nan_count": 4046,
          "categories": [
           {
            "name": "Mystery",
            "count": 393
           },
           {
            "name": "20 others",
            "count": 1533
           },
           {
            "name": "Missing",
            "count": 4046
           }
          ]
         }
        },
        {
         "name": "genres_genres_3",
         "dtype": "object",
         "stats": {
          "unique_count": 6,
          "nan_count": 5879,
          "categories": [
           {
            "name": "Fantasy",
            "count": 43
           },
           {
            "name": "5 others",
            "count": 50
           },
           {
            "name": "Missing",
            "count": 5879
           }
          ]
         }
        },
        {
         "name": "_deepnote_index_column",
         "dtype": "int64"
        }
       ],
       "rows": [
        {
         "genres_genres_0": "nan",
         "genres_genres_1": "nan",
         "genres_genres_2": "nan",
         "genres_genres_3": "nan",
         "_deepnote_index_column": 0
        },
        {
         "genres_genres_0": "Comedy",
         "genres_genres_1": "nan",
         "genres_genres_2": "nan",
         "genres_genres_3": "nan",
         "_deepnote_index_column": 1
        },
        {
         "genres_genres_0": "Music",
         "genres_genres_1": "nan",
         "genres_genres_2": "nan",
         "genres_genres_3": "nan",
         "_deepnote_index_column": 2
        },
        {
         "genres_genres_0": "Action",
         "genres_genres_1": "Anime",
         "genres_genres_2": "Science-Fiction",
         "genres_genres_3": "nan",
         "_deepnote_index_column": 3
        },
        {
         "genres_genres_0": "Action",
         "genres_genres_1": "Adventure",
         "genres_genres_2": "Anime",
         "genres_genres_3": "Fantasy",
         "_deepnote_index_column": 4
        },
        {
         "genres_genres_0": "Romance",
         "genres_genres_1": "nan",
         "genres_genres_2": "nan",
         "genres_genres_3": "nan",
         "_deepnote_index_column": 5
        },
        {
         "genres_genres_0": "Comedy",
         "genres_genres_1": "nan",
         "genres_genres_2": "nan",
         "genres_genres_3": "nan",
         "_deepnote_index_column": 6
        },
        {
         "genres_genres_0": "Comedy",
         "genres_genres_1": "nan",
         "genres_genres_2": "nan",
         "genres_genres_3": "nan",
         "_deepnote_index_column": 7
        },
        {
         "genres_genres_0": "Drama",
         "genres_genres_1": "Romance",
         "genres_genres_2": "History",
         "genres_genres_3": "nan",
         "_deepnote_index_column": 8
        },
        {
         "genres_genres_0": "Anime",
         "genres_genres_1": "nan",
         "genres_genres_2": "nan",
         "genres_genres_3": "nan",
         "_deepnote_index_column": 9
        }
       ]
      },
      "text/plain": "     genres_genres_0 genres_genres_1  genres_genres_2 genres_genres_3\n0                NaN             NaN              NaN             NaN\n1             Comedy             NaN              NaN             NaN\n2              Music             NaN              NaN             NaN\n3             Action           Anime  Science-Fiction             NaN\n4             Action       Adventure            Anime         Fantasy\n...              ...             ...              ...             ...\n5967           Drama           Crime         Thriller             NaN\n5968           Drama           Crime         Thriller             NaN\n5969           Drama           Crime         Thriller             NaN\n5970           Drama           Crime         Thriller             NaN\n5971           Drama           Crime         Thriller             NaN\n\n[5972 rows x 4 columns]",
      "text/html": "<div>\n<style scoped>\n    .dataframe tbody tr th:only-of-type {\n        vertical-align: middle;\n    }\n\n    .dataframe tbody tr th {\n        vertical-align: top;\n    }\n\n    .dataframe thead th {\n        text-align: right;\n    }\n</style>\n<table border=\"1\" class=\"dataframe\">\n  <thead>\n    <tr style=\"text-align: right;\">\n      <th></th>\n      <th>genres_genres_0</th>\n      <th>genres_genres_1</th>\n      <th>genres_genres_2</th>\n      <th>genres_genres_3</th>\n    </tr>\n  </thead>\n  <tbody>\n    <tr>\n      <th>0</th>\n      <td>NaN</td>\n      <td>NaN</td>\n      <td>NaN</td>\n      <td>NaN</td>\n    </tr>\n    <tr>\n      <th>1</th>\n      <td>Comedy</td>\n      <td>NaN</td>\n      <td>NaN</td>\n      <td>NaN</td>\n    </tr>\n    <tr>\n      <th>2</th>\n      <td>Music</td>\n      <td>NaN</td>\n      <td>NaN</td>\n      <td>NaN</td>\n    </tr>\n    <tr>\n      <th>3</th>\n      <td>Action</td>\n      <td>Anime</td>\n      <td>Science-Fiction</td>\n      <td>NaN</td>\n    </tr>\n    <tr>\n      <th>4</th>\n      <td>Action</td>\n      <td>Adventure</td>\n      <td>Anime</td>\n      <td>Fantasy</td>\n    </tr>\n    <tr>\n      <th>...</th>\n      <td>...</td>\n      <td>...</td>\n      <td>...</td>\n      <td>...</td>\n    </tr>\n    <tr>\n      <th>5967</th>\n      <td>Drama</td>\n      <td>Crime</td>\n      <td>Thriller</td>\n      <td>NaN</td>\n    </tr>\n    <tr>\n      <th>5968</th>\n      <td>Drama</td>\n      <td>Crime</td>\n      <td>Thriller</td>\n      <td>NaN</td>\n    </tr>\n    <tr>\n      <th>5969</th>\n      <td>Drama</td>\n      <td>Crime</td>\n      <td>Thriller</td>\n      <td>NaN</td>\n    </tr>\n    <tr>\n      <th>5970</th>\n      <td>Drama</td>\n      <td>Crime</td>\n      <td>Thriller</td>\n      <td>NaN</td>\n    </tr>\n    <tr>\n      <th>5971</th>\n      <td>Drama</td>\n      <td>Crime</td>\n      <td>Thriller</td>\n      <td>NaN</td>\n    </tr>\n  </tbody>\n</table>\n<p>5972 rows × 4 columns</p>\n</div>"
     },
     "metadata": {}
    }
   ]
  },
  {
   "cell_type": "markdown",
   "source": "### 5. Almacenar los diferentes DataFrames en una base de datos (sqlite) con integridad referencial entre las tablas creadas.",
   "metadata": {
    "cell_id": "18ae73f553e44bbca59dfe6fd479f63f",
    "tags": [],
    "deepnote_cell_type": "markdown"
   }
  },
  {
   "cell_type": "code",
   "metadata": {
    "cell_id": "53fe3a282cc1440e8fa1cf9b1fba55dc",
    "tags": [],
    "deepnote_to_be_reexecuted": false,
    "source_hash": "3b680491",
    "execution_start": 1656734548774,
    "execution_millis": 40453,
    "output_cleared": false,
    "deepnote_cell_type": "code"
   },
   "source": "import sqlite3 as sql\n\ndatabase = 'tvmaze.db'\n\ndef createDB():\n    conn  = sql.connect(database)\n    conn.commit()\n    conn.close()\n\ndef createTable():\n    conn=sql.connect(database)\n    try:    \n        #cursor = conn.cursor()\n        conn.executescript(\n                \"\"\"\n                create table series(\n                    id integer primary key,\n                    url texto,\n                    name texto,\n                    season integer,\n                    number real,\n                    type texto,\n                    airdate date,\n                    airtime texto,\n                    airstamp date,\n                    runtime real  \n                    );\n                \"\"\"\n                )\n        conn.commit()\n        conn.close()\n    except sql.OperationalError:\n            print(\"La tabla series ya existe\")\n\n\n#funcion para insertar datos\ndef insertTable(id,url,name,season,number,type,airdate,airtime,airstamp,runtime):\n    conn=sql.connect(database)\n    cursor = conn.cursor()\n    #instruccion = f\"insert into series values ({id},'{url}','{name}',{season},{number},'{type}',{airdate},'{airtime}',{airstamp})\"\n    instruccion = f\"insert into series values ({id},'{url}','{name}',{season},{number},'{type}',{airdate},'{airtime}',{airstamp},{runtime})\"\n    print(instruccion)\n    cursor.execute(instruccion)\n    conn.commit()\n    conn.close()\n\n#invocar funciones de crear base de datos y tablas\ncreateDB()\ncreateTable()\n\n# insertar datos del dataframe\nfor index, row in series.iterrows():\n    #insertTable(row.id,row.url, row.name,row.season,row.number,row.type,row.airdate,row.airtime,row.airstamp)\n    print(row.name)\n    insertTable(row.id,row.url, row.name,row.season, row.number,row.type,row.airdate,row.airtime,row.airstamp,row.runtime)\n    total=index\n\nprint(\"total registros\",index)\n\n\n\n",
   "execution_count": null,
   "outputs": [
    {
     "name": "stdout",
     "text": "22\ninsert into series values (1994169,'https://www.tvmaze.com/episodes/1994169/jachtseizoen-5x09-ruben-nicolai-op-de-vlucht','22',5,9.0,'regular',2020-12-26,'',2020-12-26,30.0)\n23\ninsert into series values (2111709,'https://www.tvmaze.com/episodes/2111709/world-wonder-ring-stardom-2020-12-26-stardom-year-end-climax-2020','23',2020,55.0,'regular',2020-12-26,'',2020-12-26,120.0)\n24\ninsert into series values (1981073,'https://www.tvmaze.com/episodes/1981073/fast-furious-spy-racers-3x01-the-giant-haboob','24',3,1.0,'regular',2020-12-26,'',2020-12-26,24.0)\n25\ninsert into series values (1985588,'https://www.tvmaze.com/episodes/1985588/fast-furious-spy-racers-3x02-the-dead-end','25',3,2.0,'regular',2020-12-26,'',2020-12-26,24.0)\n26\ninsert into series values (1985589,'https://www.tvmaze.com/episodes/1985589/fast-furious-spy-racers-3x03-the-empty-well','26',3,3.0,'regular',2020-12-26,'',2020-12-26,24.0)\n27\ninsert into series values (1985590,'https://www.tvmaze.com/episodes/1985590/fast-furious-spy-racers-3x04-the-hunt','27',3,4.0,'regular',2020-12-26,'',2020-12-26,24.0)\n28\ninsert into series values (1985591,'https://www.tvmaze.com/episodes/1985591/fast-furious-spy-racers-3x05-the-bedouin-shield','28',3,5.0,'regular',2020-12-26,'',2020-12-26,24.0)\n29\ninsert into series values (1985592,'https://www.tvmaze.com/episodes/1985592/fast-furious-spy-racers-3x06-the-eye-of-the-sahara','29',3,6.0,'regular',2020-12-26,'',2020-12-26,24.0)\n30\ninsert into series values (1985593,'https://www.tvmaze.com/episodes/1985593/fast-furious-spy-racers-3x07-robocleve','30',3,7.0,'regular',2020-12-26,'',2020-12-26,24.0)\n31\ninsert into series values (1985594,'https://www.tvmaze.com/episodes/1985594/fast-furious-spy-racers-3x08-sirocco-fire-explosion','31',3,8.0,'regular',2020-12-26,'',2020-12-26,24.0)\n32\ninsert into series values (1976948,'https://www.tvmaze.com/episodes/1976948/ingredients-1x20-loving-you','32',1,20.0,'regular',2020-12-26,'',2020-12-26,16.0)\n33\ninsert into series values (1992749,'https://www.tvmaze.com/episodes/1992749/world-war-two-week-by-week-3x17-december-26-1941','33',3,17.0,'regular',2020-12-26,'',2020-12-26,21.0)\n34\ninsert into series values (1953790,'https://www.tvmaze.com/episodes/1953790/after-dark-the-series-1x11-into-the-hole-part-2','34',1,11.0,'regular',2020-12-26,'',2020-12-26,60.0)\n35\ninsert into series values (1992713,'https://www.tvmaze.com/episodes/1992713/detention-1x07-re-re-detention','35',1,7.0,'regular',2020-12-26,'',2020-12-26,53.0)\n36\ninsert into series values (1992714,'https://www.tvmaze.com/episodes/1992714/detention-1x08-rain-of-freedom','36',1,8.0,'regular',2020-12-26,'',2020-12-26,53.0)\n37\ninsert into series values (1977188,'https://www.tvmaze.com/episodes/1977188/pearl-next-door-1x06-sagittarius-season','37',1,6.0,'regular',2020-12-26,'',2020-12-26,29.0)\n38\ninsert into series values (1994706,'https://www.tvmaze.com/episodes/1994706/the-controllers-1x01-episode-1','38',1,1.0,'regular',2020-12-26,'20:00',2020-12-26,45.0)\n39\ninsert into series values (1994707,'https://www.tvmaze.com/episodes/1994707/the-controllers-1x02-episode-2','39',1,2.0,'regular',2020-12-26,'20:00',2020-12-26,45.0)\n40\ninsert into series values (1994708,'https://www.tvmaze.com/episodes/1994708/the-controllers-1x03-episode-3','40',1,3.0,'regular',2020-12-26,'20:00',2020-12-26,45.0)\n41\ninsert into series values (1994709,'https://www.tvmaze.com/episodes/1994709/the-controllers-1x04-episode-4','41',1,4.0,'regular',2020-12-26,'20:00',2020-12-26,45.0)\n42\ninsert into series values (1997530,'https://www.tvmaze.com/episodes/1997530/the-penalty-zone-1x23-episode-23','42',1,23.0,'regular',2020-12-26,'',2020-12-26,45.0)\n43\ninsert into series values (1997531,'https://www.tvmaze.com/episodes/1997531/the-penalty-zone-1x24-episode-24','43',1,24.0,'regular',2020-12-26,'',2020-12-26,45.0)\n44\ninsert into series values (2000070,'https://www.tvmaze.com/episodes/2000070/ultimate-note-1x23-episode-23','44',1,23.0,'regular',2020-12-26,'',2020-12-26,45.0)\n45\ninsert into series values (2000071,'https://www.tvmaze.com/episodes/2000071/ultimate-note-1x24-episode-24','45',1,24.0,'regular',2020-12-26,'',2020-12-26,45.0)\n46\ninsert into series values (2113587,'https://www.tvmaze.com/episodes/2113587/tregayes-way-in-the-kitchen-1x07-puppy-playdate','46',1,7.0,'regular',2020-12-26,'',2020-12-26,60.0)\n47\ninsert into series values (2181798,'https://www.tvmaze.com/episodes/2181798/i-like-to-watch-3x10-the-great-british-baking-show','47',3,10.0,'regular',2020-12-26,'',2020-12-26,0.0)\n48\ninsert into series values (2242278,'https://www.tvmaze.com/episodes/2242278/tales-from-the-smp-1x01-the-town-that-never-was','48',1,1.0,'regular',2020-12-26,'',2020-12-26,60.0)\n49\ninsert into series values (2289330,'https://www.tvmaze.com/episodes/2289330/blippi-2020-12-26-blippi-learn-about-planes-at-the-museum-of-flight-educational-videos-for-kids','49',2020,163.0,'regular',2020-12-26,'',2020-12-26,0.0)\n50\ninsert into series values (2318112,'https://www.tvmaze.com/episodes/2318112/bride-of-beirut-2x56-episode-56','50',2,56.0,'regular',2020-12-26,'',2020-12-26,45.0)\n51\ninsert into series values (1989343,'https://www.tvmaze.com/episodes/1989343/meet-me-outside-1x06-what-about-new-year','51',1,6.0,'regular',2020-12-26,'22:45',2020-12-26,12.0)\n52\ninsert into series values (2303542,'https://www.tvmaze.com/episodes/2303542/kamen-rider-saber-1x16-chapter-16-saving-the-world-a-ray-of-light','52',1,16.0,'regular',2020-12-26,'00:00',2020-12-26,23.0)\n53\ninsert into series values (1961289,'https://www.tvmaze.com/episodes/1961289/wwe-talking-smack-2020-12-26-december-26-2020','53',2020,19.0,'regular',2020-12-26,'',2020-12-26,30.0)\n54\ninsert into series values (1976227,'https://www.tvmaze.com/episodes/1976227/familiekokkene-1x05-dommernes-utfordring','54',1,5.0,'regular',2020-12-26,'18:00',2020-12-26,60.0)\n55\ninsert into series values (2071507,'https://www.tvmaze.com/episodes/2071507/game-changer-3x08-secret-samta','55',3,8.0,'regular',2020-12-26,'12:00',2020-12-26,21.0)\n56\ninsert into series values (2113588,'https://www.tvmaze.com/episodes/2113588/lovely-bites-by-chef-lovely-1x07-a-little-birthday-love','56',1,7.0,'regular',2020-12-26,'',2020-12-26,25.0)\n57\ninsert into series values (1983275,'https://www.tvmaze.com/episodes/1983275/eides-spraksjov-6x06-tourett-pa-sak','57',6,6.0,'regular',2020-12-26,'20:50',2020-12-26,50.0)\n58\ninsert into series values (1981354,'https://www.tvmaze.com/episodes/1981354/the-masked-singer-unmasked-1x01-episode-1','58',1,1.0,'regular',2020-12-26,'20:20',2020-12-26,30.0)\n59\ninsert into series values (1990346,'https://www.tvmaze.com/episodes/1990346/onyx-equinox-1x06-what-she-carries','59',1,6.0,'regular',2020-12-26,'16:00',2020-12-26,24.0)\n60\ninsert into series values (1990347,'https://www.tvmaze.com/episodes/1990347/onyx-equinox-1x07-the-underworld','60',1,7.0,'regular',2020-12-26,'16:00',2020-12-26,24.0)\n61\ninsert into series values (1990348,'https://www.tvmaze.com/episodes/1990348/onyx-equinox-1x08-run','61',1,8.0,'regular',2020-12-26,'16:00',2020-12-26,24.0)\n62\ninsert into series values (1990349,'https://www.tvmaze.com/episodes/1990349/onyx-equinox-1x09-death-from-above','62',1,9.0,'regular',2020-12-26,'16:00',2020-12-26,24.0)\n63\ninsert into series values (1990350,'https://www.tvmaze.com/episodes/1990350/onyx-equinox-1x10-death-from-below','63',1,10.0,'regular',2020-12-26,'16:00',2020-12-26,24.0)\n64\ninsert into series values (1990351,'https://www.tvmaze.com/episodes/1990351/onyx-equinox-1x11-the-last-year','64',1,11.0,'regular',2020-12-26,'16:00',2020-12-26,24.0)\n65\ninsert into series values (1990352,'https://www.tvmaze.com/episodes/1990352/onyx-equinox-1x12-the-bet','65',1,12.0,'regular',2020-12-26,'16:00',2020-12-26,24.0)\n0\ninsert into series values (1993496,'https://www.tvmaze.com/episodes/1993496/troe-iz-prostokvasino-2x41-bobrovyj-meh','0',2,41.0,'regular',2020-12-27,'',2020-12-27,19.0)\n1\ninsert into series values (1993442,'https://www.tvmaze.com/episodes/1993442/top-10-po-versii-seasonvarru-2x12-top-10-samyh-ozidaemyh-novinok-v-mire-serialov','1',2,12.0,'regular',2020-12-27,'',2020-12-27,7.0)\n2\ninsert into series values (1956341,'https://www.tvmaze.com/episodes/1956341/hero-return-1x12-episode-12','2',1,12.0,'regular',2020-12-27,'10:00',2020-12-27,15.0)\n3\ninsert into series values (1988864,'https://www.tvmaze.com/episodes/1988864/swallowed-star-1x06-episode-6','3',1,6.0,'regular',2020-12-27,'10:00',2020-12-27,21.0)\n4\ninsert into series values (2052512,'https://www.tvmaze.com/episodes/2052512/wu-shen-zhu-zai-1x87-episode-87','4',1,87.0,'regular',2020-12-27,'10:00',2020-12-27,8.0)\n5\ninsert into series values (2012323,'https://www.tvmaze.com/episodes/2012323/mans-diary-2x08-episode-8','5',2,8.0,'regular',2020-12-27,'',2020-12-27,12.0)\n6\ninsert into series values (2005757,'https://www.tvmaze.com/episodes/2005757/legend-of-yun-qian-1x10-episode-10','6',1,10.0,'regular',2020-12-27,'',2020-12-27,4.0)\n7\ninsert into series values (1974055,'https://www.tvmaze.com/episodes/1974055/love-revolution-1x29-episode-29','7',1,29.0,'regular',2020-12-27,'17:00',2020-12-27,20.0)\n8\ninsert into series values (1974056,'https://www.tvmaze.com/episodes/1974056/love-revolution-1x30-episode-30','8',1,30.0,'regular',2020-12-27,'17:00',2020-12-27,20.0)\n9\ninsert into series values (2015367,'https://www.tvmaze.com/episodes/2015367/youtuber-class-1x01-episode-1','9',1,1.0,'regular',2020-12-27,'18:00',2020-12-27,11.0)\n10\ninsert into series values (1988850,'https://www.tvmaze.com/episodes/1988850/huskestue-6x11-oseania-og-vinter-carina-olset-john-arne-riise-rasmus-wold','10',6,11.0,'regular',2020-12-27,'',2020-12-27,43.0)\n11\ninsert into series values (1978014,'https://www.tvmaze.com/episodes/1978014/30-monedas-1x05-el-doble','11',1,5.0,'regular',2020-12-27,'',2020-12-27,59.0)\n12\ninsert into series values (2111761,'https://www.tvmaze.com/episodes/2111761/by-ana-milan-1x08-la-madre-de-todas-las-anecdotas','12',1,8.0,'regular',2020-12-27,'',2020-12-27,0.0)\n13\ninsert into series values (1988533,'https://www.tvmaze.com/episodes/1988533/fisica-o-quimica-el-reencuentro-1x01-cosas-que-hacer-antes-de-casarse','13',1,1.0,'regular',2020-12-27,'',2020-12-27,64.0)\n14\ninsert into series values (2029553,'https://www.tvmaze.com/episodes/2029553/labyrint-5x03-episode-3','14',5,3.0,'regular',2020-12-27,'',2020-12-27,32.0)\n15\ninsert into series values (2176144,'https://www.tvmaze.com/episodes/2176144/scishow-2020-12-27-6-surgical-devices-inspired-by-nature','15',2020,354.0,'regular',2020-12-27,'',2020-12-27,0.0)\n16\ninsert into series values (1975747,'https://www.tvmaze.com/episodes/1975747/friheden-2x07-afsnit-7','16',2,7.0,'regular',2020-12-27,'',2020-12-27,45.0)\n17\ninsert into series values (1993446,'https://www.tvmaze.com/episodes/1993446/redakcia-s03-special-redakcia-news-neuvazenie-k-gosudarstvu-produkty-po-kartockam-novyj-koronavirus','17',3,0.0,'insignificant_special',2020-12-27,'',2020-12-27,22.0)\n18\ninsert into series values (1970678,'https://www.tvmaze.com/episodes/1970678/bani-negri-pentru-zile-albe-1x06-adevarul','18',1,6.0,'regular',2020-12-27,'',2020-12-27,60.0)\n19\ninsert into series values (1993192,'https://www.tvmaze.com/episodes/1993192/cuzie-pisma-1x22-mena-razdrazaet-ego-sema-zena-ploho-vospityvaet-doc','19',1,22.0,'regular',2020-12-27,'',2020-12-27,42.0)\n20\ninsert into series values (1953071,'https://www.tvmaze.com/episodes/1953071/lakan-1x05-episode-5','20',1,5.0,'regular',2020-12-27,'',2020-12-27,25.0)\n21\ninsert into series values (1986077,'https://www.tvmaze.com/episodes/1986077/ultra-galaxy-fight-the-absolute-conspiracy-1x06-part-6','21',1,6.0,'regular',2020-12-27,'',2020-12-27,12.0)\n22\ninsert into series values (1996818,'https://www.tvmaze.com/episodes/1996818/pappas-pojkar-1x06-killarna-blir-agda-av-feminister','22',1,6.0,'regular',2020-12-27,'',2020-12-27,22.0)\n23\ninsert into series values (1993647,'https://www.tvmaze.com/episodes/1993647/outlier-1x01-episode-1','23',1,1.0,'regular',2020-12-27,'',2020-12-27,45.0)\n24\ninsert into series values (1993648,'https://www.tvmaze.com/episodes/1993648/outlier-1x02-episode-2','24',1,2.0,'regular',2020-12-27,'',2020-12-27,44.0)\n25\ninsert into series values (1993649,'https://www.tvmaze.com/episodes/1993649/outlier-1x03-episode-3','25',1,3.0,'regular',2020-12-27,'',2020-12-27,43.0)\n26\ninsert into series values (1993650,'https://www.tvmaze.com/episodes/1993650/outlier-1x04-episode-4','26',1,4.0,'regular',2020-12-27,'',2020-12-27,44.0)\n27\ninsert into series values (1993651,'https://www.tvmaze.com/episodes/1993651/outlier-1x05-episode-5','27',1,5.0,'regular',2020-12-27,'',2020-12-27,42.0)\n28\ninsert into series values (1993652,'https://www.tvmaze.com/episodes/1993652/outlier-1x06-episode-6','28',1,6.0,'regular',2020-12-27,'',2020-12-27,42.0)\n29\ninsert into series values (1993653,'https://www.tvmaze.com/episodes/1993653/outlier-1x07-episode-7','29',1,7.0,'regular',2020-12-27,'',2020-12-27,42.0)\n30\ninsert into series values (1993654,'https://www.tvmaze.com/episodes/1993654/outlier-1x08-episode-8','30',1,8.0,'regular',2020-12-27,'',2020-12-27,43.0)\n31\ninsert into series values (1994710,'https://www.tvmaze.com/episodes/1994710/the-controllers-1x05-episode-5','31',1,5.0,'regular',2020-12-27,'20:00',2020-12-27,45.0)\n32\ninsert into series values (1995491,'https://www.tvmaze.com/episodes/1995491/the-controllers-1x06-episode-6','32',1,6.0,'regular',2020-12-27,'20:00',2020-12-27,45.0)\n33\ninsert into series values (1997532,'https://www.tvmaze.com/episodes/1997532/the-penalty-zone-1x25-episode-25','33',1,25.0,'regular',2020-12-27,'',2020-12-27,45.0)\n34\ninsert into series values (1997533,'https://www.tvmaze.com/episodes/1997533/the-penalty-zone-1x26-episode-26','34',1,26.0,'regular',2020-12-27,'',2020-12-27,45.0)\n35\ninsert into series values (1998544,'https://www.tvmaze.com/episodes/1998544/love-script-1x05-episode-5','35',1,5.0,'regular',2020-12-27,'20:00',2020-12-27,45.0)\n36\ninsert into series values (1998545,'https://www.tvmaze.com/episodes/1998545/love-script-1x06-episode-6','36',1,6.0,'regular',2020-12-27,'20:00',2020-12-27,45.0)\n37\ninsert into series values (2034360,'https://www.tvmaze.com/episodes/2034360/lulu-1x01-episode-1','37',1,1.0,'regular',2020-12-27,'',2020-12-27,40.0)\n38\ninsert into series values (2204451,'https://www.tvmaze.com/episodes/2204451/the-motive-1x01-episode-1','38',1,1.0,'regular',2020-12-27,'',2020-12-27,31.0)\n39\ninsert into series values (2255986,'https://www.tvmaze.com/episodes/2255986/awesomeness-tvs-next-influencer-1x06-caught-cheating-in-the-tiktok-mansion','39',1,6.0,'regular',2020-12-27,'',2020-12-27,20.0)\n40\ninsert into series values (2267318,'https://www.tvmaze.com/episodes/2267318/dekonstrukcia-s01-special-postdekonstrukcia-s-vladimirom-surdinym-film-interstellar','40',1,0.0,'significant_special',2020-12-27,'',2020-12-27,30.0)\n41\ninsert into series values (2318113,'https://www.tvmaze.com/episodes/2318113/bride-of-beirut-2x57-episode-57','41',2,57.0,'regular',2020-12-27,'',2020-12-27,45.0)\n42\ninsert into series values (1990363,'https://www.tvmaze.com/episodes/1990363/fantastico-48x52-edition-of-12272020','42',48,52.0,'regular',2020-12-27,'',2020-12-27,0.0)\n43\ninsert into series values (2126228,'https://www.tvmaze.com/episodes/2126228/this-week-in-tech-2020-12-27-the-best-of-twit-2020','43',2020,52.0,'regular',2020-12-27,'',2020-12-27,120.0)\n44\ninsert into series values (2165932,'https://www.tvmaze.com/episodes/2165932/off-topic-2020-12-27-let-me-buy-your-games-263','44',2020,49.0,'regular',2020-12-27,'',2020-12-27,120.0)\n45\ninsert into series values (1993462,'https://www.tvmaze.com/episodes/1993462/idolish7-2x15-discover-the-future','45',2,15.0,'regular',2020-12-27,'',2020-12-27,25.0)\n46\ninsert into series values (1975189,'https://www.tvmaze.com/episodes/1975189/fancy-nancy-2x37-new-years-nancy','46',2,37.0,'regular',2020-12-27,'12:00',2020-12-27,15.0)\n47\ninsert into series values (1981602,'https://www.tvmaze.com/episodes/1981602/peytons-places-2x05-terrell-owens','47',2,5.0,'regular',2020-12-27,'',2020-12-27,30.0)\n48\ninsert into series values (1975190,'https://www.tvmaze.com/episodes/1975190/fancy-nancy-2x38-nancys-gift-to-grandpa','48',2,38.0,'regular',2020-12-27,'12:15',2020-12-27,15.0)\n49\ninsert into series values (2234691,'https://www.tvmaze.com/episodes/2234691/one-mo-chance-1x11-one-mo-finale','49',1,11.0,'regular',2020-12-27,'20:00',2020-12-28,50.0)\n0\ninsert into series values (1977901,'https://www.tvmaze.com/episodes/1977901/obycnaa-zensina-2x05-seria-14','0',2,5.0,'regular',2020-12-28,'10:00',2020-12-27,46.0)\n1\ninsert into series values (2164196,'https://www.tvmaze.com/episodes/2164196/ispoved-1x10-aem-tillmari','1',1,10.0,'regular',2020-12-28,'12:00',2020-12-28,48.0)\n2\ninsert into series values (1982411,'https://www.tvmaze.com/episodes/1982411/volk-1x13-seria-13','2',1,13.0,'regular',2020-12-28,'',2020-12-28,51.0)\n3\ninsert into series values (1982412,'https://www.tvmaze.com/episodes/1982412/volk-1x14-seria-14','3',1,14.0,'regular',2020-12-28,'',2020-12-28,51.0)\n4\ninsert into series values (2062930,'https://www.tvmaze.com/episodes/2062930/god-of-ten-thousand-realms-1x05-episode-5','4',1,5.0,'regular',2020-12-28,'10:00',2020-12-28,7.0)\n5\ninsert into series values (2140389,'https://www.tvmaze.com/episodes/2140389/going-seventeen-2020-12-28-ttt-1-hyperrealism-ver','5',2020,44.0,'regular',2020-12-28,'',2020-12-28,30.0)\n6\ninsert into series values (2353919,'https://www.tvmaze.com/episodes/2353919/300-year-old-class-of-2020-1x06-episode-6','6',1,6.0,'regular',2020-12-28,'',2020-12-28,16.0)\n7\ninsert into series values (2324421,'https://www.tvmaze.com/episodes/2324421/unique-lady-2x09-episode-9','7',2,9.0,'regular',2020-12-28,'12:00',2020-12-28,40.0)\n8\ninsert into series values (2324422,'https://www.tvmaze.com/episodes/2324422/unique-lady-2x10-episode-10','8',2,10.0,'regular',2020-12-28,'12:00',2020-12-28,40.0)\n9\ninsert into series values (1998598,'https://www.tvmaze.com/episodes/1998598/unique-lady-2-1x09-episode-9','9',1,9.0,'regular',2020-12-28,'',2020-12-28,45.0)\n10\ninsert into series values (1998599,'https://www.tvmaze.com/episodes/1998599/unique-lady-2-1x10-episode-10','10',1,10.0,'regular',2020-12-28,'',2020-12-28,45.0)\n11\ninsert into series values (2005758,'https://www.tvmaze.com/episodes/2005758/legend-of-yun-qian-1x11-episode-11','11',1,11.0,'regular',2020-12-28,'',2020-12-28,4.0)\n12\ninsert into series values (2065446,'https://www.tvmaze.com/episodes/2065446/the-wonderland-of-ten-thousands-4x33-episode-33-161','12',4,33.0,'regular',2020-12-28,'',2020-12-28,10.0)\n13\ninsert into series values (2087587,'https://www.tvmaze.com/episodes/2087587/klassen-4x03-be-the-last','13',4,3.0,'regular',2020-12-28,'06:00',2020-12-28,10.0)\n14\ninsert into series values (1995497,'https://www.tvmaze.com/episodes/1995497/a-love-so-beautiful-1x01-love-letter','14',1,1.0,'regular',2020-12-28,'17:00',2020-12-28,25.0)\n15\ninsert into series values (1996795,'https://www.tvmaze.com/episodes/1996795/alex-og-aune-1x17-fokus-ved-reisens-slutt','15',1,17.0,'regular',2020-12-28,'',2020-12-28,12.0)\n16\ninsert into series values (2029554,'https://www.tvmaze.com/episodes/2029554/labyrint-5x04-episode-4','16',5,4.0,'regular',2020-12-28,'',2020-12-28,32.0)\n17\ninsert into series values (2153844,'https://www.tvmaze.com/episodes/2153844/bablo-3x08-skilsmissen','17',3,8.0,'regular',2020-12-28,'',2020-12-28,8.0)\n18\ninsert into series values (2153845,'https://www.tvmaze.com/episodes/2153845/bablo-3x09-drom-og-svom','18',3,9.0,'regular',2020-12-28,'',2020-12-28,8.0)\n19\ninsert into series values (1972060,'https://www.tvmaze.com/episodes/1972060/red-vs-blue-18x08-for-power-pt-2','19',18,8.0,'regular',2020-12-28,'',2020-12-28,16.0)\n20\ninsert into series values (1980404,'https://www.tvmaze.com/episodes/1980404/the-young-turks-2020-12-28-december-28-2020-hour-1','20',2020,317.0,'regular',2020-12-28,'',2020-12-28,120.0)\n21\ninsert into series values (1980405,'https://www.tvmaze.com/episodes/1980405/the-young-turks-2020-12-28-december-28-2020-hour-2','21',2020,318.0,'regular',2020-12-28,'',2020-12-28,120.0)\n22\ninsert into series values (2176145,'https://www.tvmaze.com/episodes/2176145/scishow-2020-12-28-doggerland-a-real-life-atlantis','22',2020,355.0,'regular',2020-12-28,'',2020-12-28,0.0)\n23\ninsert into series values (1997810,'https://www.tvmaze.com/episodes/1997810/uznat-za-10-sekund-s04-special-novogodnij-koncert-perspektivnyh-indi-muzykantov-2021-go','23',4,0.0,'insignificant_special',2020-12-28,'',2020-12-28,21.0)\n24\ninsert into series values (1996830,'https://www.tvmaze.com/episodes/1996830/30-minute-meals-30x17-everyones-italian-on-sunday-linguini-con-vongole','24',30,17.0,'regular',2020-12-28,'',2020-12-28,30.0)\n25\ninsert into series values (1989145,'https://www.tvmaze.com/episodes/1989145/vnutri-lapenko-3x04-4-seria','25',3,4.0,'regular',2020-12-28,'',2020-12-28,41.0)\n26\ninsert into series values (1993168,'https://www.tvmaze.com/episodes/1993168/being-the-elite-1x236-episode-236','26',1,236.0,'regular',2020-12-28,'',2020-12-28,15.0)\n27\ninsert into series values (1970769,'https://www.tvmaze.com/episodes/1970769/manner-of-death-1x06-episode-6','27',1,6.0,'regular',2020-12-28,'',2020-12-28,40.0)\n28\ninsert into series values (1996799,'https://www.tvmaze.com/episodes/1996799/ex-and-the-city-4x09-episode-9','28',4,9.0,'regular',2020-12-28,'',2020-12-28,12.0)\n29\ninsert into series values (1976048,'https://www.tvmaze.com/episodes/1976048/twisted-fate-of-love-1x37-episode-37','29',1,37.0,'regular',2020-12-28,'20:00',2020-12-28,45.0)\n30\ninsert into series values (1976049,'https://www.tvmaze.com/episodes/1976049/twisted-fate-of-love-1x38-episode-38','30',1,38.0,'regular',2020-12-28,'20:00',2020-12-28,45.0)\n31\ninsert into series values (2129634,'https://www.tvmaze.com/episodes/2129634/the-aam-aadmi-family-4x03-surprise-surprise','31',4,3.0,'regular',2020-12-28,'',2020-12-28,0.0)\n32\ninsert into series values (1987331,'https://www.tvmaze.com/episodes/1987331/beauty-and-the-boss-1x11-episode-11','32',1,11.0,'regular',2020-12-28,'20:00',2020-12-28,60.0)\n33\ninsert into series values (1987332,'https://www.tvmaze.com/episodes/1987332/beauty-and-the-boss-1x12-episode-12','33',1,12.0,'regular',2020-12-28,'20:00',2020-12-28,60.0)\n34\ninsert into series values (1987333,'https://www.tvmaze.com/episodes/1987333/beauty-and-the-boss-1x13-episode-13','34',1,13.0,'regular',2020-12-28,'20:00',2020-12-28,60.0)\n35\ninsert into series values (1987334,'https://www.tvmaze.com/episodes/1987334/beauty-and-the-boss-1x14-episode-14','35',1,14.0,'regular',2020-12-28,'20:00',2020-12-28,60.0)\n36\ninsert into series values (1987335,'https://www.tvmaze.com/episodes/1987335/beauty-and-the-boss-1x15-episode-15','36',1,15.0,'regular',2020-12-28,'20:00',2020-12-28,60.0)\n37\ninsert into series values (1988070,'https://www.tvmaze.com/episodes/1988070/forever-love-1x19-episode-19','37',1,19.0,'regular',2020-12-28,'20:00',2020-12-28,45.0)\n38\ninsert into series values (1988071,'https://www.tvmaze.com/episodes/1988071/forever-love-1x20-episode-20','38',1,20.0,'regular',2020-12-28,'20:00',2020-12-28,45.0)\n39\ninsert into series values (1989335,'https://www.tvmaze.com/episodes/1989335/win-jaimes-heart-1x02-what-are-the-chances','39',1,2.0,'regular',2020-12-28,'',2020-12-28,24.0)\n40\ninsert into series values (1989361,'https://www.tvmaze.com/episodes/1989361/nikkietutorials-layers-of-me-1x01-peeling-back-the-past','40',1,1.0,'regular',2020-12-28,'',2020-12-28,17.0)\n41\ninsert into series values (2012656,'https://www.tvmaze.com/episodes/2012656/nikkietutorials-layers-of-me-1x02-the-pressure-to-perform','41',1,2.0,'regular',2020-12-28,'',2020-12-28,17.0)\n42\ninsert into series values (2012657,'https://www.tvmaze.com/episodes/2012657/nikkietutorials-layers-of-me-1x03-losing-my-little-brother','42',1,3.0,'regular',2020-12-28,'',2020-12-28,16.0)\n43\ninsert into series values (2012658,'https://www.tvmaze.com/episodes/2012658/nikkietutorials-layers-of-me-1x04-finally-revealing-my-secret','43',1,4.0,'regular',2020-12-28,'',2020-12-28,20.0)\n44\ninsert into series values (1993823,'https://www.tvmaze.com/episodes/1993823/the-case-solver-1x17-episode-17','44',1,17.0,'regular',2020-12-28,'',2020-12-28,27.0)\n45\ninsert into series values (1993824,'https://www.tvmaze.com/episodes/1993824/the-case-solver-1x18-episode-18','45',1,18.0,'regular',2020-12-28,'',2020-12-28,27.0)\n46\ninsert into series values (1993825,'https://www.tvmaze.com/episodes/1993825/the-case-solver-1x19-episode-19','46',1,19.0,'regular',2020-12-28,'',2020-12-28,27.0)\n47\ninsert into series values (1993826,'https://www.tvmaze.com/episodes/1993826/the-case-solver-1x20-episode-20','47',1,20.0,'regular',2020-12-28,'',2020-12-28,27.0)\n48\ninsert into series values (1995492,'https://www.tvmaze.com/episodes/1995492/the-controllers-1x07-episode-7','48',1,7.0,'regular',2020-12-28,'20:00',2020-12-28,45.0)\n49\ninsert into series values (1995493,'https://www.tvmaze.com/episodes/1995493/the-controllers-1x08-episode-8','49',1,8.0,'regular',2020-12-28,'20:00',2020-12-28,45.0)\n50\ninsert into series values (1995580,'https://www.tvmaze.com/episodes/1995580/the-controllers-1x09-episode-9','50',1,9.0,'regular',2020-12-28,'20:00',2020-12-28,45.0)\n51\ninsert into series values (1995581,'https://www.tvmaze.com/episodes/1995581/the-controllers-1x10-episode-10','51',1,10.0,'regular',2020-12-28,'20:00',2020-12-28,45.0)\n52\ninsert into series values (1995582,'https://www.tvmaze.com/episodes/1995582/the-controllers-1x11-episode-11','52',1,11.0,'regular',2020-12-28,'20:00',2020-12-28,45.0)\n53\ninsert into series values (1995583,'https://www.tvmaze.com/episodes/1995583/the-controllers-1x12-episode-12','53',1,12.0,'regular',2020-12-28,'20:00',2020-12-28,45.0)\n54\ninsert into series values (1995584,'https://www.tvmaze.com/episodes/1995584/the-controllers-1x13-episode-13','54',1,13.0,'regular',2020-12-28,'20:00',2020-12-28,45.0)\n55\ninsert into series values (1995585,'https://www.tvmaze.com/episodes/1995585/the-controllers-1x14-episode-14','55',1,14.0,'regular',2020-12-28,'20:00',2020-12-28,45.0)\n56\ninsert into series values (1998546,'https://www.tvmaze.com/episodes/1998546/love-script-1x07-episode-7','56',1,7.0,'regular',2020-12-28,'20:00',2020-12-28,45.0)\n57\ninsert into series values (1998547,'https://www.tvmaze.com/episodes/1998547/love-script-1x08-episode-8','57',1,8.0,'regular',2020-12-28,'20:00',2020-12-28,45.0)\n58\ninsert into series values (2007685,'https://www.tvmaze.com/episodes/2007685/my-best-friends-story-1x01-episode-1','58',1,1.0,'regular',2020-12-28,'',2020-12-28,45.0)\n59\ninsert into series values (2007686,'https://www.tvmaze.com/episodes/2007686/my-best-friends-story-1x02-episode-2','59',1,2.0,'regular',2020-12-28,'',2020-12-28,45.0)\n60\ninsert into series values (2032516,'https://www.tvmaze.com/episodes/2032516/booba-1x74-space-adventure','60',1,74.0,'regular',2020-12-28,'',2020-12-28,5.0)\n61\ninsert into series values (2034361,'https://www.tvmaze.com/episodes/2034361/lulu-1x02-episode-2','61',1,2.0,'regular',2020-12-28,'',2020-12-28,40.0)\n62\ninsert into series values (2072229,'https://www.tvmaze.com/episodes/2072229/top-dog-fighting-championship-6x02-majk-vooruzennyj-vs-gazi-zohan','62',6,2.0,'regular',2020-12-28,'',2020-12-28,10.0)\n63\ninsert into series values (2197292,'https://www.tvmaze.com/episodes/2197292/struggle-meals-1x16-potatoes-gonna-potate','63',1,16.0,'regular',2020-12-28,'',2020-12-28,20.0)\n64\ninsert into series values (2197599,'https://www.tvmaze.com/episodes/2197599/peace-of-mind-with-taraji-1x05-holiday-blues-with-mary-j-blige','64',1,5.0,'regular',2020-12-28,'',2020-12-28,0.0)\n65\ninsert into series values (2204452,'https://www.tvmaze.com/episodes/2204452/the-motive-1x02-episode-2','65',1,2.0,'regular',2020-12-28,'',2020-12-28,33.0)\n66\ninsert into series values (2211138,'https://www.tvmaze.com/episodes/2211138/tunelis-1x05-episode-5','66',1,5.0,'regular',2020-12-28,'',2020-12-28,50.0)\n67\ninsert into series values (2239611,'https://www.tvmaze.com/episodes/2239611/scishow-kids-2020-12-28-4-amazing-science-experiments-for-a-day-inside','67',2020,23.0,'regular',2020-12-28,'',2020-12-28,5.0)\n68\ninsert into series values (2289877,'https://www.tvmaze.com/episodes/2289877/discover-destination-ua-2x20-chornobyl-ukraine-first-impression','68',2,20.0,'regular',2020-12-28,'',2020-12-28,26.0)\n69\ninsert into series values (2318114,'https://www.tvmaze.com/episodes/2318114/bride-of-beirut-2x58-episode-58','69',2,58.0,'regular',2020-12-28,'',2020-12-28,45.0)\n70\ninsert into series values (1992762,'https://www.tvmaze.com/episodes/1992762/sj-returns-4x88-episode-88','70',4,88.0,'regular',2020-12-28,'00:00',2020-12-28,5.0)\n71\ninsert into series values (1981577,'https://www.tvmaze.com/episodes/1981577/cukur-4x17-guvenli-ev','71',4,17.0,'regular',2020-12-28,'19:00',2020-12-28,130.0)\n72\ninsert into series values (1969064,'https://www.tvmaze.com/episodes/1969064/rooster-teeth-podcast-2020-12-28-people-are-so-smart-629','72',2020,52.0,'regular',2020-12-28,'',2020-12-28,90.0)\n73\ninsert into series values (1995454,'https://www.tvmaze.com/episodes/1995454/rooster-teeth-animated-adventures-2020-12-28-squirrel-content','73',2020,52.0,'regular',2020-12-28,'',2020-12-28,2.0)\n74\ninsert into series values (2036540,'https://www.tvmaze.com/episodes/2036540/raw-talk-4x31-december-28-2020','74',4,31.0,'regular',2020-12-28,'',2020-12-28,30.0)\n75\ninsert into series values (1992759,'https://www.tvmaze.com/episodes/1992759/death-battle-7x20-hulk-vs-broly','75',7,20.0,'regular',2020-12-28,'',2020-12-28,10.0)\n76\ninsert into series values (1977420,'https://www.tvmaze.com/episodes/1977420/goede-tijden-slechte-tijden-31x69-aflevering-6324','76',31,69.0,'regular',2020-12-28,'20:00',2020-12-28,23.0)\n77\ninsert into series values (1979218,'https://www.tvmaze.com/episodes/1979218/the-real-housewives-of-jersey-1x01-welcome-to-jersey','77',1,1.0,'regular',2020-12-28,'21:00',2020-12-28,60.0)\n78\ninsert into series values (1984805,'https://www.tvmaze.com/episodes/1984805/the-real-housewives-of-jersey-1x02-forgive-me-nots','78',1,2.0,'regular',2020-12-28,'21:00',2020-12-28,60.0)\n79\ninsert into series values (1994144,'https://www.tvmaze.com/episodes/1994144/the-real-housewives-of-jersey-1x03-two-strikes-and-youre-in','79',1,3.0,'regular',2020-12-28,'21:00',2020-12-28,60.0)\n80\ninsert into series values (1994145,'https://www.tvmaze.com/episodes/1994145/the-real-housewives-of-jersey-1x04-i-should-coco','80',1,4.0,'regular',2020-12-28,'21:00',2020-12-28,60.0)\n81\ninsert into series values (1994146,'https://www.tvmaze.com/episodes/1994146/the-real-housewives-of-jersey-1x05-highcliffe-high-class','81',1,5.0,'regular',2020-12-28,'21:00',2020-12-28,60.0)\n82\ninsert into series values (1997350,'https://www.tvmaze.com/episodes/1997350/the-real-housewives-of-jersey-1x06-a-grave-concern','82',1,6.0,'regular',2020-12-28,'21:00',2020-12-28,60.0)\n83\ninsert into series values (1997351,'https://www.tvmaze.com/episodes/1997351/the-real-housewives-of-jersey-1x07-ladies-who-launch','83',1,7.0,'regular',2020-12-28,'21:00',2020-12-28,60.0)\n84\ninsert into series values (1997352,'https://www.tvmaze.com/episodes/1997352/the-real-housewives-of-jersey-1x08-fake-orgasm-addicts','84',1,8.0,'regular',2020-12-28,'21:00',2020-12-28,60.0)\n85\ninsert into series values (1997353,'https://www.tvmaze.com/episodes/1997353/the-real-housewives-of-jersey-1x09-a-splash-for-ash','85',1,9.0,'regular',2020-12-28,'21:00',2020-12-28,60.0)\n86\ninsert into series values (1997354,'https://www.tvmaze.com/episodes/1997354/the-real-housewives-of-jersey-1x10-la-finn','86',1,10.0,'regular',2020-12-28,'21:00',2020-12-28,60.0)\n87\ninsert into series values (1972714,'https://www.tvmaze.com/episodes/1972714/wwe-monday-night-raw-27x52-1440-tropicana-field-in-st-petersburg-fl','87',27,52.0,'regular',2020-12-28,'20:00',2020-12-29,180.0)\n88\ninsert into series values (1987975,'https://www.tvmaze.com/episodes/1987975/dr-pimple-popper-5x01-leave-it-to-the-nevus','88',5,1.0,'regular',2020-12-28,'21:00',2020-12-29,60.0)\n89\ninsert into series values (2152587,'https://www.tvmaze.com/episodes/2152587/gang-wars-princes-1x12-serija-12','89',1,12.0,'regular',2020-12-28,'21:00',2020-12-29,45.0)\n0\ninsert into series values (2007756,'https://www.tvmaze.com/episodes/2007756/stand-up-autsajd-1x11-pavel-dedisev-17-minut-serebra','0',1,11.0,'regular',2020-12-29,'12:00',2020-12-29,20.0)\n1\ninsert into series values (1987860,'https://www.tvmaze.com/episodes/1987860/blic-krik-1x12-12-nurlan-saburov-t-fest-garik-oganisan-rustam-reptiloid-emir-kasokov','1',1,12.0,'regular',2020-12-29,'12:00',2020-12-29,30.0)\n2\ninsert into series values (2008031,'https://www.tvmaze.com/episodes/2008031/lab-s-antonom-belaevym-2x10-therr-maitz','2',2,10.0,'regular',2020-12-29,'',2020-12-29,34.0)\n3\ninsert into series values (1964569,'https://www.tvmaze.com/episodes/1964569/core-sense-1x13-episode-13','3',1,13.0,'regular',2020-12-29,'10:00',2020-12-29,24.0)\n4\ninsert into series values (2052513,'https://www.tvmaze.com/episodes/2052513/wu-shen-zhu-zai-1x88-episode-88','4',1,88.0,'regular',2020-12-29,'10:00',2020-12-29,8.0)\n5\ninsert into series values (1993658,'https://www.tvmaze.com/episodes/1993658/7-days-of-romance-2x03-episode-3','5',2,3.0,'regular',2020-12-29,'',2020-12-29,15.0)\n6\ninsert into series values (2096302,'https://www.tvmaze.com/episodes/2096302/no-turning-back-romance-1x07-7','6',1,7.0,'regular',2020-12-29,'',2020-12-29,12.0)\n7\ninsert into series values (2324423,'https://www.tvmaze.com/episodes/2324423/unique-lady-2x11-episode-11','7',2,11.0,'regular',2020-12-29,'12:00',2020-12-29,40.0)\n8\ninsert into series values (2324424,'https://www.tvmaze.com/episodes/2324424/unique-lady-2x12-episode-12','8',2,12.0,'regular',2020-12-29,'12:00',2020-12-29,38.0)\n9\ninsert into series values (2068352,'https://www.tvmaze.com/episodes/2068352/doomsday-awakening-2x03-episode-3','9',2,3.0,'regular',2020-12-29,'',2020-12-29,15.0)\n10\ninsert into series values (1998600,'https://www.tvmaze.com/episodes/1998600/unique-lady-2-1x11-episode-11','10',1,11.0,'regular',2020-12-29,'',2020-12-29,45.0)\n11\ninsert into series values (1998602,'https://www.tvmaze.com/episodes/1998602/unique-lady-2-1x12-episode-12','11',1,12.0,'regular',2020-12-29,'',2020-12-29,45.0)\n12\ninsert into series values (2005759,'https://www.tvmaze.com/episodes/2005759/legend-of-yun-qian-1x12-episode-12','12',1,12.0,'regular',2020-12-29,'',2020-12-29,4.0)\n13\ninsert into series values (2082179,'https://www.tvmaze.com/episodes/2082179/ling-jian-zun-4x36-di136ji','13',4,36.0,'regular',2020-12-29,'',2020-12-29,10.0)\n14\ninsert into series values (2161418,'https://www.tvmaze.com/episodes/2161418/mafia-nights-3x01-bazy-awl-grwh-swm','14',3,1.0,'regular',2020-12-29,'08:00',2020-12-29,90.0)\n15\ninsert into series values (1997181,'https://www.tvmaze.com/episodes/1997181/paurashpur-1x01-paurashpur-kingdom-of-patriarchy','15',1,1.0,'regular',2020-12-29,'',2020-12-29,28.0)\n16\ninsert into series values (1997182,'https://www.tvmaze.com/episodes/1997182/paurashpur-1x02-naqaab-posh-the-mysterious-kidnapper','16',1,2.0,'regular',2020-12-29,'',2020-12-29,18.0)\n17\ninsert into series values (1997183,'https://www.tvmaze.com/episodes/1997183/paurashpur-1x03-kala-ranveer-not-a-love-story','17',1,3.0,'regular',2020-12-29,'',2020-12-29,19.0)\n18\ninsert into series values (1997184,'https://www.tvmaze.com/episodes/1997184/paurashpur-1x04-boris-the-gender-politics','18',1,4.0,'regular',2020-12-29,'',2020-12-29,19.0)\n19\ninsert into series values (1997185,'https://www.tvmaze.com/episodes/1997185/paurashpur-1x05-ujale-baaz-the-secret-hawk','19',1,5.0,'regular',2020-12-29,'',2020-12-29,18.0)\n20\ninsert into series values (1997186,'https://www.tvmaze.com/episodes/1997186/paurashpur-1x06-nayantara-legend-of-the-missing-maharani','20',1,6.0,'regular',2020-12-29,'',2020-12-29,19.0)\n21\ninsert into series values (1997187,'https://www.tvmaze.com/episodes/1997187/paurashpur-1x07-vidroh-the-uprising','21',1,7.0,'regular',2020-12-29,'',2020-12-29,18.0)\n22\ninsert into series values (1988204,'https://www.tvmaze.com/episodes/1988204/lovestruck-in-the-city-1x03-episode-3','22',1,3.0,'regular',2020-12-29,'17:00',2020-12-29,30.0)\n23\ninsert into series values (1996796,'https://www.tvmaze.com/episodes/1996796/alex-og-aune-1x18-temmer-demonene','23',1,18.0,'regular',2020-12-29,'',2020-12-29,12.0)\n24\ninsert into series values (2029555,'https://www.tvmaze.com/episodes/2029555/labyrint-5x05-episode-5','24',5,5.0,'regular',2020-12-29,'',2020-12-29,32.0)\n25\ninsert into series values (2077447,'https://www.tvmaze.com/episodes/2077447/tillykke-i-skal-have-trillinger-2x01-nyt-ar-nye-vaner','25',2,1.0,'regular',2020-12-29,'',2020-12-29,30.0)\n26\ninsert into series values (2077448,'https://www.tvmaze.com/episodes/2077448/tillykke-i-skal-have-trillinger-2x02-trillingelivets-udfordringer','26',2,2.0,'regular',2020-12-29,'',2020-12-29,30.0)\n27\ninsert into series values (2077449,'https://www.tvmaze.com/episodes/2077449/tillykke-i-skal-have-trillinger-2x03-hjemme-er-bedst','27',2,3.0,'regular',2020-12-29,'',2020-12-29,30.0)\n28\ninsert into series values (2077451,'https://www.tvmaze.com/episodes/2077451/tillykke-i-skal-have-trillinger-2x04-corona-vender-alt-pa-hovedet','28',2,4.0,'regular',2020-12-29,'',2020-12-29,30.0)\n29\ninsert into series values (2077452,'https://www.tvmaze.com/episodes/2077452/tillykke-i-skal-have-trillinger-2x05-sommer-og-store-dage','29',2,5.0,'regular',2020-12-29,'',2020-12-29,30.0)\n30\ninsert into series values (2077453,'https://www.tvmaze.com/episodes/2077453/tillykke-i-skal-have-trillinger-2x06-fremtiden-er-lys','30',2,6.0,'regular',2020-12-29,'',2020-12-29,30.0)\n31\ninsert into series values (2126481,'https://www.tvmaze.com/episodes/2126481/nieobecni-1x01-odcinek-1','31',1,1.0,'regular',2020-12-29,'',2020-12-29,41.0)\n32\ninsert into series values (2126482,'https://www.tvmaze.com/episodes/2126482/nieobecni-1x02-odcinek-2','32',1,2.0,'regular',2020-12-29,'',2020-12-29,43.0)\n33\ninsert into series values (2047751,'https://www.tvmaze.com/episodes/2047751/honest-game-trailers-2020-12-29-call-of-duty-black-ops-cold-war','33',2020,52.0,'regular',2020-12-29,'',2020-12-29,5.0)\n34\ninsert into series values (1995627,'https://www.tvmaze.com/episodes/1995627/honest-trailers-2020-12-29-2020-feat-patton-oswalt','34',2020,53.0,'regular',2020-12-29,'',2020-12-29,5.0)\n35\ninsert into series values (1980406,'https://www.tvmaze.com/episodes/1980406/the-young-turks-2020-12-29-december-29-2020-hour-1','35',2020,319.0,'regular',2020-12-29,'',2020-12-29,120.0)\n36\ninsert into series values (1980407,'https://www.tvmaze.com/episodes/1980407/the-young-turks-2020-12-29-december-29-2020-hour-2','36',2020,320.0,'regular',2020-12-29,'',2020-12-29,120.0)\n37\ninsert into series values (2176146,'https://www.tvmaze.com/episodes/2176146/scishow-2020-12-29-the-fly-that-lays-eggs-in-toad-nostrils','37',2020,356.0,'regular',2020-12-29,'',2020-12-29,0.0)\n38\ninsert into series values (1995781,'https://www.tvmaze.com/episodes/1995781/returning-the-favor-4x16-the-motorcycle-racer-saving-animals','38',4,16.0,'regular',2020-12-29,'',2020-12-29,30.0)\n39\ninsert into series values (2018261,'https://www.tvmaze.com/episodes/2018261/red-table-talk-3x26-how-to-handle-awkward-conversations','39',3,26.0,'regular',2020-12-29,'',2020-12-29,25.0)\n40\ninsert into series values (1995564,'https://www.tvmaze.com/episodes/1995564/inside-of-you-with-michael-rosenbaum-1x144-world-famous-voice-actor-clancy-brown','40',1,144.0,'regular',2020-12-29,'',2020-12-29,90.0)\n41\ninsert into series values (1960500,'https://www.tvmaze.com/episodes/1960500/all-elite-wrestling-dark-2020-12-29-aew-dark-67','41',2020,53.0,'regular',2020-12-29,'',2020-12-29,0.0)\n42\ninsert into series values (1996800,'https://www.tvmaze.com/episodes/1996800/ex-and-the-city-4x10-episode-10','42',4,10.0,'regular',2020-12-29,'',2020-12-29,12.0)\n43\ninsert into series values (1992598,'https://www.tvmaze.com/episodes/1992598/roommate-2x02-episode-2','43',2,2.0,'regular',2020-12-29,'',2020-12-29,48.0)\n44\ninsert into series values (1988461,'https://www.tvmaze.com/episodes/1988461/uwn-primetime-2020-12-29-primetime-live-16','44',2020,16.0,'regular',2020-12-29,'',2020-12-29,120.0)\n45\ninsert into series values (1976050,'https://www.tvmaze.com/episodes/1976050/twisted-fate-of-love-1x39-episode-39','45',1,39.0,'regular',2020-12-29,'20:00',2020-12-29,45.0)\n46\ninsert into series values (1976051,'https://www.tvmaze.com/episodes/1976051/twisted-fate-of-love-1x40-episode-40','46',1,40.0,'regular',2020-12-29,'20:00',2020-12-29,45.0)\n47\ninsert into series values (1984958,'https://www.tvmaze.com/episodes/1984958/dream-detective-1x19-episode-19','47',1,19.0,'regular',2020-12-29,'20:00',2020-12-29,45.0)\n48\ninsert into series values (1984959,'https://www.tvmaze.com/episodes/1984959/dream-detective-1x20-episode-20','48',1,20.0,'regular',2020-12-29,'20:00',2020-12-29,45.0)\n49\ninsert into series values (1985205,'https://www.tvmaze.com/episodes/1985205/handmade-love-1x06-meet-me-in-your-past','49',1,6.0,'regular',2020-12-29,'',2020-12-29,16.0)\n50\ninsert into series values (1988072,'https://www.tvmaze.com/episodes/1988072/forever-love-1x21-episode-21','50',1,21.0,'regular',2020-12-29,'20:00',2020-12-29,45.0)\n51\ninsert into series values (1988073,'https://www.tvmaze.com/episodes/1988073/forever-love-1x22-episode-22','51',1,22.0,'regular',2020-12-29,'20:00',2020-12-29,45.0)\n52\ninsert into series values (1988303,'https://www.tvmaze.com/episodes/1988303/nwa-shockwave-1x05-episode-5','52',1,5.0,'regular',2020-12-29,'',2020-12-29,45.0)\n53\ninsert into series values (1993827,'https://www.tvmaze.com/episodes/1993827/the-case-solver-1x21-episode-21','53',1,21.0,'regular',2020-12-29,'',2020-12-29,27.0)\n54\ninsert into series values (1993828,'https://www.tvmaze.com/episodes/1993828/the-case-solver-1x22-episode-22','54',1,22.0,'regular',2020-12-29,'',2020-12-29,27.0)\n55\ninsert into series values (1993829,'https://www.tvmaze.com/episodes/1993829/the-case-solver-1x23-episode-23','55',1,23.0,'regular',2020-12-29,'',2020-12-29,27.0)\n56\ninsert into series values (1993830,'https://www.tvmaze.com/episodes/1993830/the-case-solver-1x24-episode-24','56',1,24.0,'regular',2020-12-29,'',2020-12-29,27.0)\n57\ninsert into series values (2002697,'https://www.tvmaze.com/episodes/2002697/nations-brother-1x01-one-night-stand','57',1,1.0,'regular',2020-12-29,'',2020-12-29,25.0)\n58\ninsert into series values (2007687,'https://www.tvmaze.com/episodes/2007687/my-best-friends-story-1x03-episode-3','58',1,3.0,'regular',2020-12-29,'',2020-12-29,45.0)\n59\ninsert into series values (2007688,'https://www.tvmaze.com/episodes/2007688/my-best-friends-story-1x04-episode-4','59',1,4.0,'regular',2020-12-29,'',2020-12-29,45.0)\n60\ninsert into series values (2034362,'https://www.tvmaze.com/episodes/2034362/lulu-1x03-episode-3','60',1,3.0,'regular',2020-12-29,'',2020-12-29,40.0)\n61\ninsert into series values (2204453,'https://www.tvmaze.com/episodes/2204453/the-motive-1x03-episode-3','61',1,3.0,'regular',2020-12-29,'',2020-12-29,37.0)\n62\ninsert into series values (2318115,'https://www.tvmaze.com/episodes/2318115/bride-of-beirut-2x59-episode-59','62',2,59.0,'regular',2020-12-29,'',2020-12-29,45.0)\n63\ninsert into series values (1989717,'https://www.tvmaze.com/episodes/1989717/you-never-eat-alone-1x02-episode-2','63',1,2.0,'regular',2020-12-29,'22:00',2020-12-29,45.0)\n64\ninsert into series values (2165009,'https://www.tvmaze.com/episodes/2165009/all-about-android-2020-12-29-2020-in-the-rear-view','64',2020,52.0,'regular',2020-12-29,'',2020-12-29,90.0)\n65\ninsert into series values (1968004,'https://www.tvmaze.com/episodes/1968004/a-teacher-1x10-episode-10','65',1,10.0,'regular',2020-12-29,'',2020-12-29,30.0)\n66\ninsert into series values (2192627,'https://www.tvmaze.com/episodes/2192627/diti-proti-zirok-2x13-vypusk-13-artem-fedeckij-masa-efrosinina-amador-lopes','66',2,13.0,'regular',2020-12-29,'19:00',2020-12-29,90.0)\n67\ninsert into series values (1979306,'https://www.tvmaze.com/episodes/1979306/familiekokkene-1x06-vegetarfest','67',1,6.0,'regular',2020-12-29,'18:00',2020-12-29,60.0)\n68\ninsert into series values (1977421,'https://www.tvmaze.com/episodes/1977421/goede-tijden-slechte-tijden-31x70-aflevering-6325','68',31,70.0,'regular',2020-12-29,'20:00',2020-12-29,23.0)\n69\ninsert into series values (1994076,'https://www.tvmaze.com/episodes/1994076/celebrity-a-21st-century-story-1x01-episode-one-ordinary-people','69',1,1.0,'regular',2020-12-29,'21:00',2020-12-29,60.0)\n70\ninsert into series values (1994077,'https://www.tvmaze.com/episodes/1994077/celebrity-a-21st-century-story-1x02-episode-two-trainwreck','70',1,2.0,'regular',2020-12-29,'21:00',2020-12-29,60.0)\n71\ninsert into series values (1994078,'https://www.tvmaze.com/episodes/1994078/celebrity-a-21st-century-story-1x03-episode-three-lust-for-likes','71',1,3.0,'regular',2020-12-29,'21:00',2020-12-29,60.0)\n72\ninsert into series values (1994079,'https://www.tvmaze.com/episodes/1994079/celebrity-a-21st-century-story-1x04-episode-four-power-grab','72',1,4.0,'regular',2020-12-29,'21:00',2020-12-29,60.0)\n0\ninsert into series values (2179615,'https://www.tvmaze.com/episodes/2179615/kontakty-1x32-kontakty-v-telefone-arsenia-popova-pavel-vola-ekaterina-varnava-ila-sobolev-edgard-zapasnyj','0',1,32.0,'regular',2020-12-30,'12:00',2020-12-30,45.0)\n1\ninsert into series values (2001718,'https://www.tvmaze.com/episodes/2001718/zona-komforta-s01-special-zona-komforta-osuitelno-specialnyj-vypusk','1',1,0.0,'insignificant_special',2020-12-30,'',2020-12-30,15.0)\n2\ninsert into series values (1987721,'https://www.tvmaze.com/episodes/1987721/passaziry-1x03-kirill','2',1,3.0,'regular',2020-12-30,'',2020-12-30,20.0)\n3\ninsert into series values (2095630,'https://www.tvmaze.com/episodes/2095630/yi-nian-yong-heng-1x23-episode-23','3',1,23.0,'regular',2020-12-30,'10:00',2020-12-30,19.0)\n4\ninsert into series values (1993659,'https://www.tvmaze.com/episodes/1993659/7-days-of-romance-2x04-episode-4','4',2,4.0,'regular',2020-12-30,'',2020-12-30,15.0)\n5\ninsert into series values (2096304,'https://www.tvmaze.com/episodes/2096304/no-turning-back-romance-1x08-8','5',1,8.0,'regular',2020-12-30,'',2020-12-30,12.0)\n6\ninsert into series values (2324425,'https://www.tvmaze.com/episodes/2324425/unique-lady-2x13-episode-13','6',2,13.0,'regular',2020-12-30,'12:00',2020-12-30,40.0)\n7\ninsert into series values (2324426,'https://www.tvmaze.com/episodes/2324426/unique-lady-2x14-episode-14','7',2,14.0,'regular',2020-12-30,'12:00',2020-12-30,40.0)\n8\ninsert into series values (1998603,'https://www.tvmaze.com/episodes/1998603/unique-lady-2-1x13-episode-13','8',1,13.0,'regular',2020-12-30,'',2020-12-30,45.0)\n9\ninsert into series values (1998605,'https://www.tvmaze.com/episodes/1998605/unique-lady-2-1x14-episode-14','9',1,14.0,'regular',2020-12-30,'',2020-12-30,45.0)\n10\ninsert into series values (2005760,'https://www.tvmaze.com/episodes/2005760/legend-of-yun-qian-1x13-episode-13','10',1,13.0,'regular',2020-12-30,'',2020-12-30,4.0)\n11\ninsert into series values (2066371,'https://www.tvmaze.com/episodes/2066371/chu-feng-yi-dian-shizi-1x08-episode-8','11',1,8.0,'regular',2020-12-30,'',2020-12-30,30.0)\n12\ninsert into series values (2145126,'https://www.tvmaze.com/episodes/2145126/love-alice-or-not-1x03-episode-03','12',1,3.0,'regular',2020-12-30,'',2020-12-30,0.0)\n13\ninsert into series values (2205982,'https://www.tvmaze.com/episodes/2205982/my-supernatural-power-1x25-episode-25','13',1,25.0,'regular',2020-12-30,'',2020-12-30,45.0)\n14\ninsert into series values (2205983,'https://www.tvmaze.com/episodes/2205983/my-supernatural-power-1x26-episode-26','14',1,26.0,'regular',2020-12-30,'',2020-12-30,45.0)\n15\ninsert into series values (2304701,'https://www.tvmaze.com/episodes/2304701/knights-on-debris-1x01-episode-1','15',1,1.0,'regular',2020-12-30,'',2020-12-30,20.0)\n16\ninsert into series values (2304704,'https://www.tvmaze.com/episodes/2304704/knights-on-debris-1x02-episode-2','16',1,2.0,'regular',2020-12-30,'',2020-12-30,20.0)\n17\ninsert into series values (2312217,'https://www.tvmaze.com/episodes/2312217/unsolved-cases-of-kung-fu-portrait-of-beauty-1x01-episode-1','17',1,1.0,'regular',2020-12-30,'',2020-12-30,30.0)\n18\ninsert into series values (2312218,'https://www.tvmaze.com/episodes/2312218/unsolved-cases-of-kung-fu-portrait-of-beauty-1x02-episode-2','18',1,2.0,'regular',2020-12-30,'',2020-12-30,30.0)\n19\ninsert into series values (2312219,'https://www.tvmaze.com/episodes/2312219/unsolved-cases-of-kung-fu-portrait-of-beauty-1x03-episode-3','19',1,3.0,'regular',2020-12-30,'',2020-12-30,30.0)\n20\ninsert into series values (2312220,'https://www.tvmaze.com/episodes/2312220/unsolved-cases-of-kung-fu-portrait-of-beauty-1x04-episode-4','20',1,4.0,'regular',2020-12-30,'',2020-12-30,30.0)\n21\ninsert into series values (2312221,'https://www.tvmaze.com/episodes/2312221/unsolved-cases-of-kung-fu-portrait-of-beauty-1x05-episode-5','21',1,5.0,'regular',2020-12-30,'',2020-12-30,30.0)\n22\ninsert into series values (2312222,'https://www.tvmaze.com/episodes/2312222/unsolved-cases-of-kung-fu-portrait-of-beauty-1x06-episode-6','22',1,6.0,'regular',2020-12-30,'',2020-12-30,30.0)\n23\ninsert into series values (1987792,'https://www.tvmaze.com/episodes/1987792/color-rush-1x01-episode-1','23',1,1.0,'regular',2020-12-30,'18:00',2020-12-30,17.0)\n24\ninsert into series values (2007592,'https://www.tvmaze.com/episodes/2007592/10-bin-adim-1x01-eski-sevgili','24',1,1.0,'regular',2020-12-30,'',2020-12-30,12.0)\n25\ninsert into series values (2007593,'https://www.tvmaze.com/episodes/2007593/10-bin-adim-1x02-yalan','25',1,2.0,'regular',2020-12-30,'',2020-12-30,12.0)\n26\ninsert into series values (2015361,'https://www.tvmaze.com/episodes/2015361/life-of-namjoo-1x01-episode-1','26',1,1.0,'regular',2020-12-30,'18:00',2020-12-30,19.0)\n27\ninsert into series values (2017663,'https://www.tvmaze.com/episodes/2017663/masrah-masr-8x09-a-day-that-passed','27',8,9.0,'regular',2020-12-30,'',2020-12-30,60.0)\n28\ninsert into series values (1996797,'https://www.tvmaze.com/episodes/1996797/alex-og-aune-1x19-gir-tilbake','28',1,19.0,'regular',2020-12-30,'',2020-12-30,12.0)\n29\ninsert into series values (2029557,'https://www.tvmaze.com/episodes/2029557/labyrint-5x06-episode-6','29',5,6.0,'regular',2020-12-30,'',2020-12-30,35.0)\n30\ninsert into series values (1945903,'https://www.tvmaze.com/episodes/1945903/the-expanse-5x05-down-and-out','30',5,5.0,'regular',2020-12-30,'',2020-12-30,49.0)\n31\ninsert into series values (1980408,'https://www.tvmaze.com/episodes/1980408/the-young-turks-2020-12-30-december-30-2020-hour-1','31',2020,321.0,'regular',2020-12-30,'',2020-12-30,120.0)\n32\ninsert into series values (1980409,'https://www.tvmaze.com/episodes/1980409/the-young-turks-2020-12-30-december-30-2020-hour-2','32',2020,322.0,'regular',2020-12-30,'',2020-12-30,120.0)\n33\ninsert into series values (1997492,'https://www.tvmaze.com/episodes/1997492/unhhhh-5x32-random-xii','33',5,32.0,'regular',2020-12-30,'',2020-12-30,10.0)\n34\ninsert into series values (2176147,'https://www.tvmaze.com/episodes/2176147/scishow-2020-12-30-5-great-minds-to-celebrate-in-2021-and-beyond-compilation','34',2020,357.0,'regular',2020-12-30,'',2020-12-30,0.0)\n35\ninsert into series values (1997811,'https://www.tvmaze.com/episodes/1997811/uznat-za-10-sekund-4x43-sura','35',4,43.0,'regular',2020-12-30,'',2020-12-30,22.0)\n36\ninsert into series values (2041159,'https://www.tvmaze.com/episodes/2041159/dtk-elviszlek-magammal-7x21-barabas-eva','36',7,21.0,'regular',2020-12-30,'',2020-12-30,33.0)\n37\ninsert into series values (1995782,'https://www.tvmaze.com/episodes/1995782/a-pogovorit-4x40-rustam-i-indira-nabievy-istoria-lubvi-posle-tragedii-maldivy-deti-elbrus','37',4,40.0,'regular',2020-12-30,'',2020-12-30,93.0)\n38\ninsert into series values (1975372,'https://www.tvmaze.com/episodes/1975372/transformers-war-for-cybertron-trilogy-2x01-episode-1','38',2,1.0,'regular',2020-12-30,'',2020-12-30,24.0)\n39\ninsert into series values (1985596,'https://www.tvmaze.com/episodes/1985596/transformers-war-for-cybertron-trilogy-2x02-episode-2','39',2,2.0,'regular',2020-12-30,'',2020-12-30,25.0)\n40\ninsert into series values (1985597,'https://www.tvmaze.com/episodes/1985597/transformers-war-for-cybertron-trilogy-2x03-episode-3','40',2,3.0,'regular',2020-12-30,'',2020-12-30,24.0)\n41\ninsert into series values (1985598,'https://www.tvmaze.com/episodes/1985598/transformers-war-for-cybertron-trilogy-2x04-episode-4','41',2,4.0,'regular',2020-12-30,'',2020-12-30,24.0)\n42\ninsert into series values (1985599,'https://www.tvmaze.com/episodes/1985599/transformers-war-for-cybertron-trilogy-2x05-episode-5','42',2,5.0,'regular',2020-12-30,'',2020-12-30,24.0)\n43\ninsert into series values (1985600,'https://www.tvmaze.com/episodes/1985600/transformers-war-for-cybertron-trilogy-2x06-episode-6','43',2,6.0,'regular',2020-12-30,'',2020-12-30,25.0)\n44\ninsert into series values (1996691,'https://www.tvmaze.com/episodes/1996691/redakcia-3x86-kak-my-stali-civilizaciej-panelnyh-mnogoetazek','44',3,86.0,'regular',2020-12-30,'',2020-12-30,56.0)\n45\ninsert into series values (1974463,'https://www.tvmaze.com/episodes/1974463/equinox-1x01-det-kommer-til-at-ske-igen','45',1,1.0,'regular',2020-12-30,'',2020-12-30,46.0)\n46\ninsert into series values (1976483,'https://www.tvmaze.com/episodes/1976483/equinox-1x02-pigen-er-vaek','46',1,2.0,'regular',2020-12-30,'',2020-12-30,46.0)\n47\ninsert into series values (1976484,'https://www.tvmaze.com/episodes/1976484/equinox-1x03-hvad-er-det-du-ser-nar-du-sover','47',1,3.0,'regular',2020-12-30,'',2020-12-30,53.0)\n48\ninsert into series values (1976485,'https://www.tvmaze.com/episodes/1976485/equinox-1x04-alt-pa-plads-plads-til-alt','48',1,4.0,'regular',2020-12-30,'',2020-12-30,44.0)\n49\ninsert into series values (1976486,'https://www.tvmaze.com/episodes/1976486/equinox-1x05-jeg-horer-stemmer','49',1,5.0,'regular',2020-12-30,'',2020-12-30,41.0)\n50\ninsert into series values (1976487,'https://www.tvmaze.com/episodes/1976487/equinox-1x06-blodet-flyder-i-arerne','50',1,6.0,'regular',2020-12-30,'',2020-12-30,43.0)\n51\ninsert into series values (1997421,'https://www.tvmaze.com/episodes/1997421/arashis-diary-voyage-1x22-the-lead-up-to-december-31st-2020-part-1','51',1,22.0,'regular',2020-12-30,'',2020-12-30,0.0)\n52\ninsert into series values (1997422,'https://www.tvmaze.com/episodes/1997422/arashis-diary-voyage-1x23-the-lead-up-to-december-31st-2020-part-2','52',1,23.0,'regular',2020-12-30,'',2020-12-30,0.0)\n53\ninsert into series values (1995760,'https://www.tvmaze.com/episodes/1995760/sereza-i-mikrofon-podkast-1x59-viktor-komarov-sergej-orlov-itogi-goda','53',1,59.0,'regular',2020-12-30,'',2020-12-30,208.0)\n54\ninsert into series values (1996801,'https://www.tvmaze.com/episodes/1996801/ex-and-the-city-4x11-episode-11','54',4,11.0,'regular',2020-12-30,'',2020-12-30,12.0)\n55\ninsert into series values (1995788,'https://www.tvmaze.com/episodes/1995788/between-2-wars-2x08-summer-1920-louis-armstrong-and-the-beginning-of-the-jazz-age','55',2,8.0,'regular',2020-12-30,'',2020-12-30,18.0)\n56\ninsert into series values (1958576,'https://www.tvmaze.com/episodes/1958576/my-bromance-2-5-years-later-1x04-episode-4','56',1,4.0,'regular',2020-12-30,'',2020-12-30,60.0)\n57\ninsert into series values (1996255,'https://www.tvmaze.com/episodes/1996255/chicken-shop-date-1x47-jade-thirlwall','57',1,47.0,'regular',2020-12-30,'',2020-12-30,6.0)\n58\ninsert into series values (1970255,'https://www.tvmaze.com/episodes/1970255/amore-1x51-healing','58',1,51.0,'regular',2020-12-30,'',2020-12-30,19.0)\n59\ninsert into series values (1964497,'https://www.tvmaze.com/episodes/1964497/shi-yi-changan-mingyue-ji-shi-you-1x11-episode-11','59',1,11.0,'regular',2020-12-30,'20:00',2020-12-30,20.0)\n60\ninsert into series values (1964498,'https://www.tvmaze.com/episodes/1964498/shi-yi-changan-mingyue-ji-shi-you-1x12-episode-12','60',1,12.0,'regular',2020-12-30,'20:00',2020-12-30,20.0)\n61\ninsert into series values (1976052,'https://www.tvmaze.com/episodes/1976052/twisted-fate-of-love-1x41-episode-41','61',1,41.0,'regular',2020-12-30,'20:00',2020-12-30,45.0)\n62\ninsert into series values (1976053,'https://www.tvmaze.com/episodes/1976053/twisted-fate-of-love-1x42-episode-42','62',1,42.0,'regular',2020-12-30,'20:00',2020-12-30,45.0)\n63\ninsert into series values (1976054,'https://www.tvmaze.com/episodes/1976054/twisted-fate-of-love-1x43-episode-43','63',1,43.0,'regular',2020-12-30,'20:00',2020-12-30,45.0)\n64\ninsert into series values (1984960,'https://www.tvmaze.com/episodes/1984960/dream-detective-1x21-episode-21','64',1,21.0,'regular',2020-12-30,'20:00',2020-12-30,45.0)\n65\ninsert into series values (1984961,'https://www.tvmaze.com/episodes/1984961/dream-detective-1x22-episode-22','65',1,22.0,'regular',2020-12-30,'20:00',2020-12-30,45.0)\n66\ninsert into series values (1985481,'https://www.tvmaze.com/episodes/1985481/you-complete-me-1x25-episode-25','66',1,25.0,'regular',2020-12-30,'20:00',2020-12-30,45.0)\n67\ninsert into series values (1985482,'https://www.tvmaze.com/episodes/1985482/you-complete-me-1x26-episode-26','67',1,26.0,'regular',2020-12-30,'20:00',2020-12-30,45.0)\n68\ninsert into series values (1996398,'https://www.tvmaze.com/episodes/1996398/the-expanse-aftershow-1x05-jasai-chase-owens-jeff-woolnough','68',1,5.0,'regular',2020-12-30,'',2020-12-30,27.0)\n69\ninsert into series values (1988074,'https://www.tvmaze.com/episodes/1988074/forever-love-1x23-episode-23','69',1,23.0,'regular',2020-12-30,'20:00',2020-12-30,45.0)\n70\ninsert into series values (1988075,'https://www.tvmaze.com/episodes/1988075/forever-love-1x24-episode-24','70',1,24.0,'regular',2020-12-30,'20:00',2020-12-30,45.0)\n71\ninsert into series values (1990564,'https://www.tvmaze.com/episodes/1990564/follow-my-sunshine-1x02-episode-2','71',1,2.0,'regular',2020-12-30,'',2020-12-30,15.0)\n72\ninsert into series values (1991482,'https://www.tvmaze.com/episodes/1991482/best-leftovers-ever-1x01-fast-food-to-fancy','72',1,1.0,'regular',2020-12-30,'',2020-12-30,35.0)\n73\ninsert into series values (1995741,'https://www.tvmaze.com/episodes/1995741/best-leftovers-ever-1x02-game-day-gourmet','73',1,2.0,'regular',2020-12-30,'',2020-12-30,35.0)\n74\ninsert into series values (1995742,'https://www.tvmaze.com/episodes/1995742/best-leftovers-ever-1x03-the-holidays','74',1,3.0,'regular',2020-12-30,'',2020-12-30,36.0)\n75\ninsert into series values (1995743,'https://www.tvmaze.com/episodes/1995743/best-leftovers-ever-1x04-pot-roast-to-french-toast','75',1,4.0,'regular',2020-12-30,'',2020-12-30,36.0)\n76\ninsert into series values (1995744,'https://www.tvmaze.com/episodes/1995744/best-leftovers-ever-1x05-down-home-to-uptown','76',1,5.0,'regular',2020-12-30,'',2020-12-30,36.0)\n77\ninsert into series values (1995745,'https://www.tvmaze.com/episodes/1995745/best-leftovers-ever-1x06-welcome-to-the-neighborhood','77',1,6.0,'regular',2020-12-30,'',2020-12-30,35.0)\n78\ninsert into series values (1995746,'https://www.tvmaze.com/episodes/1995746/best-leftovers-ever-1x07-fiesta-feast','78',1,7.0,'regular',2020-12-30,'',2020-12-30,36.0)\n79\ninsert into series values (1995747,'https://www.tvmaze.com/episodes/1995747/best-leftovers-ever-1x08-bland-to-flavor-bomb','79',1,8.0,'regular',2020-12-30,'',2020-12-30,35.0)\n80\ninsert into series values (1995386,'https://www.tvmaze.com/episodes/1995386/sanpa-luci-e-tenebre-di-san-patrignano-1x01-nascita','80',1,1.0,'regular',2020-12-30,'',2020-12-30,56.0)\n81\ninsert into series values (1995752,'https://www.tvmaze.com/episodes/1995752/sanpa-luci-e-tenebre-di-san-patrignano-1x02-crescita','81',1,2.0,'regular',2020-12-30,'',2020-12-30,58.0)\n82\ninsert into series values (1995753,'https://www.tvmaze.com/episodes/1995753/sanpa-luci-e-tenebre-di-san-patrignano-1x03-fama','82',1,3.0,'regular',2020-12-30,'',2020-12-30,61.0)\n83\ninsert into series values (1995754,'https://www.tvmaze.com/episodes/1995754/sanpa-luci-e-tenebre-di-san-patrignano-1x04-declino','83',1,4.0,'regular',2020-12-30,'',2020-12-30,62.0)\n84\ninsert into series values (1995755,'https://www.tvmaze.com/episodes/1995755/sanpa-luci-e-tenebre-di-san-patrignano-1x05-caduta','84',1,5.0,'regular',2020-12-30,'',2020-12-30,64.0)\n85\ninsert into series values (1997534,'https://www.tvmaze.com/episodes/1997534/the-penalty-zone-1x27-episode-27','85',1,27.0,'regular',2020-12-30,'',2020-12-30,45.0)\n86\ninsert into series values (1997535,'https://www.tvmaze.com/episodes/1997535/the-penalty-zone-1x28-episode-28','86',1,28.0,'regular',2020-12-30,'',2020-12-30,45.0)\n87\ninsert into series values (2005324,'https://www.tvmaze.com/episodes/2005324/laikykites-ten-5x17-nepaprastu-2020-uju-apzvalga','87',5,17.0,'regular',2020-12-30,'',2020-12-30,45.0)\n88\ninsert into series values (2007689,'https://www.tvmaze.com/episodes/2007689/my-best-friends-story-1x05-episode-5','88',1,5.0,'regular',2020-12-30,'',2020-12-30,45.0)\n89\ninsert into series values (2007690,'https://www.tvmaze.com/episodes/2007690/my-best-friends-story-1x06-episode-6','89',1,6.0,'regular',2020-12-30,'',2020-12-30,45.0)\n90\ninsert into series values (2016056,'https://www.tvmaze.com/episodes/2016056/osennie-vizity-1x01-seria-1','90',1,1.0,'regular',2020-12-30,'',2020-12-30,66.0)\n91\ninsert into series values (2034363,'https://www.tvmaze.com/episodes/2034363/lulu-1x04-episode-4','91',1,4.0,'regular',2020-12-30,'',2020-12-30,40.0)\n92\ninsert into series values (2074010,'https://www.tvmaze.com/episodes/2074010/arm-share-1x55-episode-55','92',1,55.0,'regular',2020-12-30,'',2020-12-30,29.0)\n93\ninsert into series values (2109335,'https://www.tvmaze.com/episodes/2109335/kazka-taemnica-cargolosu-1x01-magicnij-pralis','93',1,1.0,'regular',2020-12-30,'',2020-12-30,13.0)\n94\ninsert into series values (2118379,'https://www.tvmaze.com/episodes/2118379/yaar-jigree-kasooti-degree-2x13-reunion','94',2,13.0,'regular',2020-12-30,'',2020-12-30,0.0)\n95\ninsert into series values (2166197,'https://www.tvmaze.com/episodes/2166197/hello-kittys-super-cute-adventures-1x11-telephone-game','95',1,11.0,'regular',2020-12-30,'',2020-12-30,0.0)\n96\ninsert into series values (2197600,'https://www.tvmaze.com/episodes/2197600/peace-of-mind-with-taraji-1x06-holiday-despair-or-something-more-serious','96',1,6.0,'regular',2020-12-30,'',2020-12-30,0.0)\n97\ninsert into series values (2204454,'https://www.tvmaze.com/episodes/2204454/the-motive-1x04-episode-4','97',1,4.0,'regular',2020-12-30,'',2020-12-30,43.0)\n98\ninsert into series values (2268219,'https://www.tvmaze.com/episodes/2268219/the-cool-crystal-show-1x01-back-in-the-living-room','98',1,1.0,'regular',2020-12-30,'',2020-12-30,25.0)\n99\ninsert into series values (2318116,'https://www.tvmaze.com/episodes/2318116/bride-of-beirut-2x60-episode-60','99',2,60.0,'regular',2020-12-30,'',2020-12-30,45.0)\n100\ninsert into series values (2330009,'https://www.tvmaze.com/episodes/2330009/30-days-with-ryan-garcia-1x03-becoming-the-monster','100',1,3.0,'regular',2020-12-30,'',2020-12-30,18.0)\n101\ninsert into series values (1999627,'https://www.tvmaze.com/episodes/1999627/nfl-films-presents-2020-12-30-fun-and-games','101',2020,17.0,'regular',2020-12-30,'08:30',2020-12-30,30.0)\n102\ninsert into series values (1992763,'https://www.tvmaze.com/episodes/1992763/sj-returns-4x89-episode-89','102',4,89.0,'regular',2020-12-30,'00:00',2020-12-30,5.0)\n103\ninsert into series values (1977579,'https://www.tvmaze.com/episodes/1977579/atop-the-fourth-wall-12x48-yet-another-15-mistakes-of-at4w','103',12,48.0,'regular',2020-12-30,'',2020-12-30,25.0)\n104\ninsert into series values (1990782,'https://www.tvmaze.com/episodes/1990782/a-house-divided-3x02-we-all-got-choices','104',3,2.0,'regular',2020-12-30,'',2020-12-30,45.0)\n105\ninsert into series values (2192628,'https://www.tvmaze.com/episodes/2192628/diti-proti-zirok-2x14-vypusk-14-artem-pivovarov-daniel-salem-konstantin-vojtenko','105',2,14.0,'regular',2020-12-30,'19:00',2020-12-30,90.0)\n106\ninsert into series values (2135013,'https://www.tvmaze.com/episodes/2135013/dimension-20-7x08-feasts-families','106',7,8.0,'regular',2020-12-30,'',2020-12-30,0.0)\n107\ninsert into series values (1977422,'https://www.tvmaze.com/episodes/1977422/goede-tijden-slechte-tijden-31x71-aflevering-6326','107',31,71.0,'regular',2020-12-30,'20:00',2020-12-30,23.0)\n108\ninsert into series values (2276408,'https://www.tvmaze.com/episodes/2276408/here-we-go-s01-special-pandemonium-pilot','108',1,0.0,'significant_special',2020-12-30,'21:45',2020-12-30,30.0)\n109\ninsert into series values (1958869,'https://www.tvmaze.com/episodes/1958869/wwe-nxt-14x53-main-event-johnny-gargano-c-vs-leon-ruff-for-the-nxt-north-american-championship','109',14,53.0,'regular',2020-12-30,'20:00',2020-12-31,127.0)\n110\ninsert into series values (2041985,'https://www.tvmaze.com/episodes/2041985/submission-underground-2020-12-30-submission-underground-20-bader-vs-fowler','110',2020,10.0,'regular',2020-12-30,'20:00',2020-12-31,120.0)\n111\ninsert into series values (1985214,'https://www.tvmaze.com/episodes/1985214/noblesse-1x13-noblesse-take-her-hand','111',1,13.0,'regular',2020-12-30,'00:00',2020-12-31,25.0)\n0\ninsert into series values (1977902,'https://www.tvmaze.com/episodes/1977902/obycnaa-zensina-2x06-seria-15','0',2,6.0,'regular',2020-12-31,'10:00',2020-12-30,56.0)\n1\ninsert into series values (2015818,'https://www.tvmaze.com/episodes/2015818/po-sezonu-videodajdzest-seasonvar-6x53-vypusk-307','1',6,53.0,'regular',2020-12-31,'',2020-12-31,9.0)\n2\ninsert into series values (1964000,'https://www.tvmaze.com/episodes/1964000/257-pricin-ctoby-zit-2x10-seria-23','2',2,10.0,'regular',2020-12-31,'',2020-12-31,25.0)\n3\ninsert into series values (1995405,'https://www.tvmaze.com/episodes/1995405/proekt-anna-nikolaevna-s02-special-nacalo','3',2,0.0,'significant_special',2020-12-31,'',2020-12-31,67.0)\n4\ninsert into series values (2007760,'https://www.tvmaze.com/episodes/2007760/stand-up-autsajd-1x12-aroslav-kondrasov','4',1,12.0,'regular',2020-12-31,'12:00',2020-12-31,17.0)\n5\ninsert into series values (1985789,'https://www.tvmaze.com/episodes/1985789/theres-a-pit-in-my-senior-martial-brothers-brain-2x11-episode-11','5',2,11.0,'regular',2020-12-31,'11:00',2020-12-31,20.0)\n6\ninsert into series values (2039622,'https://www.tvmaze.com/episodes/2039622/witches-1x05-episode-5','6',1,5.0,'regular',2020-12-31,'',2020-12-31,30.0)\n7\ninsert into series values (2039623,'https://www.tvmaze.com/episodes/2039623/witches-1x06-episode-6','7',1,6.0,'regular',2020-12-31,'',2020-12-31,30.0)\n8\ninsert into series values (2324427,'https://www.tvmaze.com/episodes/2324427/unique-lady-2x15-episode-15','8',2,15.0,'regular',2020-12-31,'12:00',2020-12-31,40.0)\n9\ninsert into series values (2324428,'https://www.tvmaze.com/episodes/2324428/unique-lady-2x16-episode-16','9',2,16.0,'regular',2020-12-31,'12:00',2020-12-31,40.0)\n10\ninsert into series values (2324429,'https://www.tvmaze.com/episodes/2324429/unique-lady-2x17-episode-17','10',2,17.0,'regular',2020-12-31,'12:00',2020-12-31,40.0)\n11\ninsert into series values (2324430,'https://www.tvmaze.com/episodes/2324430/unique-lady-2x18-episode-18','11',2,18.0,'regular',2020-12-31,'12:00',2020-12-31,40.0)\n12\ninsert into series values (2324432,'https://www.tvmaze.com/episodes/2324432/unique-lady-2x19-episode-19','12',2,19.0,'regular',2020-12-31,'12:00',2020-12-31,40.0)\n13\ninsert into series values (2324433,'https://www.tvmaze.com/episodes/2324433/unique-lady-2x20-episode-20','13',2,20.0,'regular',2020-12-31,'12:00',2020-12-31,40.0)\n14\ninsert into series values (1972579,'https://www.tvmaze.com/episodes/1972579/the-wolf-1x37-episode-37','14',1,37.0,'regular',2020-12-31,'',2020-12-31,45.0)\n15\ninsert into series values (1972580,'https://www.tvmaze.com/episodes/1972580/the-wolf-1x38-episode-38','15',1,38.0,'regular',2020-12-31,'',2020-12-31,45.0)\n16\ninsert into series values (1994248,'https://www.tvmaze.com/episodes/1994248/a-love-so-romantic-1x07-episode-7','16',1,7.0,'regular',2020-12-31,'',2020-12-31,45.0)\n17\ninsert into series values (1994249,'https://www.tvmaze.com/episodes/1994249/a-love-so-romantic-1x08-episode-8','17',1,8.0,'regular',2020-12-31,'',2020-12-31,45.0)\n18\ninsert into series values (1998607,'https://www.tvmaze.com/episodes/1998607/unique-lady-2-1x15-episode-15','18',1,15.0,'regular',2020-12-31,'',2020-12-31,45.0)\n19\ninsert into series values (1998609,'https://www.tvmaze.com/episodes/1998609/unique-lady-2-1x16-episode-16','19',1,16.0,'regular',2020-12-31,'',2020-12-31,45.0)\n20\ninsert into series values (1998610,'https://www.tvmaze.com/episodes/1998610/unique-lady-2-1x17-episode-17','20',1,17.0,'regular',2020-12-31,'',2020-12-31,45.0)\n21\ninsert into series values (1998611,'https://www.tvmaze.com/episodes/1998611/unique-lady-2-1x18-episode-18','21',1,18.0,'regular',2020-12-31,'',2020-12-31,45.0)\n22\ninsert into series values (1998613,'https://www.tvmaze.com/episodes/1998613/unique-lady-2-1x19-episode-19','22',1,19.0,'regular',2020-12-31,'',2020-12-31,45.0)\n23\ninsert into series values (1998615,'https://www.tvmaze.com/episodes/1998615/unique-lady-2-1x20-episode-20','23',1,20.0,'regular',2020-12-31,'',2020-12-31,45.0)\n24\ninsert into series values (2005761,'https://www.tvmaze.com/episodes/2005761/legend-of-yun-qian-1x14-episode-14','24',1,14.0,'regular',2020-12-31,'',2020-12-31,4.0)\n25\ninsert into series values (2005762,'https://www.tvmaze.com/episodes/2005762/legend-of-yun-qian-1x15-episode-15','25',1,15.0,'regular',2020-12-31,'',2020-12-31,4.0)\n26\ninsert into series values (2013871,'https://www.tvmaze.com/episodes/2013871/kl-gangster-underworld-2x07-episode-7','26',2,7.0,'regular',2020-12-31,'12:00',2020-12-31,45.0)\n27\ninsert into series values (2065447,'https://www.tvmaze.com/episodes/2065447/the-wonderland-of-ten-thousands-4x34-episode-34-162','27',4,34.0,'regular',2020-12-31,'',2020-12-31,10.0)\n28\ninsert into series values (2090654,'https://www.tvmaze.com/episodes/2090654/lord-xue-ying-2x01-reunited-with-family','28',2,1.0,'regular',2020-12-31,'',2020-12-31,20.0)\n29\ninsert into series values (2090655,'https://www.tvmaze.com/episodes/2090655/lord-xue-ying-2x02-the-end-of-the-noble-family','29',2,2.0,'regular',2020-12-31,'',2020-12-31,20.0)\n30\ninsert into series values (2169203,'https://www.tvmaze.com/episodes/2169203/i-am-a-great-god-1x09-episode-9','30',1,9.0,'regular',2020-12-31,'',2020-12-31,20.0)\n31\ninsert into series values (2312223,'https://www.tvmaze.com/episodes/2312223/unsolved-cases-of-kung-fu-portrait-of-beauty-1x07-episode-7','31',1,7.0,'regular',2020-12-31,'',2020-12-31,30.0)\n32\ninsert into series values (2312224,'https://www.tvmaze.com/episodes/2312224/unsolved-cases-of-kung-fu-portrait-of-beauty-1x08-episode-8','32',1,8.0,'regular',2020-12-31,'',2020-12-31,30.0)\n33\ninsert into series values (2312225,'https://www.tvmaze.com/episodes/2312225/unsolved-cases-of-kung-fu-portrait-of-beauty-1x09-episode-9','33',1,9.0,'regular',2020-12-31,'',2020-12-31,30.0)\n34\ninsert into series values (2312226,'https://www.tvmaze.com/episodes/2312226/unsolved-cases-of-kung-fu-portrait-of-beauty-1x10-episode-10','34',1,10.0,'regular',2020-12-31,'',2020-12-31,30.0)\n35\ninsert into series values (2312227,'https://www.tvmaze.com/episodes/2312227/unsolved-cases-of-kung-fu-portrait-of-beauty-1x11-episode-11','35',1,11.0,'regular',2020-12-31,'',2020-12-31,30.0)\n36\ninsert into series values (2312228,'https://www.tvmaze.com/episodes/2312228/unsolved-cases-of-kung-fu-portrait-of-beauty-1x12-episode-12','36',1,12.0,'regular',2020-12-31,'',2020-12-31,30.0)\n37\ninsert into series values (2087588,'https://www.tvmaze.com/episodes/2087588/klassen-4x04-the-librarian','37',4,4.0,'regular',2020-12-31,'06:00',2020-12-31,10.0)\n38\ninsert into series values (2006091,'https://www.tvmaze.com/episodes/2006091/nocnoj-kontakt-s05-special-novyj-god-v-vk-haus','38',5,0.0,'insignificant_special',2020-12-31,'19:00',2020-12-31,213.0)\n39\ninsert into series values (1995507,'https://www.tvmaze.com/episodes/1995507/a-love-so-beautiful-1x02-at-the-karaoke','39',1,2.0,'regular',2020-12-31,'17:00',2020-12-31,22.0)\n40\ninsert into series values (2008312,'https://www.tvmaze.com/episodes/2008312/studia-souz-4x14-vypusk-116-aleksej-serbakov-vs-aleksandr-gudkov-ng','40',4,14.0,'regular',2020-12-31,'21:00',2020-12-31,45.0)\n41\ninsert into series values (2015837,'https://www.tvmaze.com/episodes/2015837/aynen-aynen-s05-special-yilbasi-ozel','41',5,0.0,'significant_special',2020-12-31,'',2020-12-31,5.0)\n42\ninsert into series values (1996819,'https://www.tvmaze.com/episodes/1996819/cuma-s02-special-cumovoj-novyj-god-glava-1-tragedia','42',2,0.0,'insignificant_special',2020-12-31,'21:00',2020-12-31,45.0)\n43\ninsert into series values (2037724,'https://www.tvmaze.com/episodes/2037724/aile-sirketi-2x06-6-bolum','43',2,6.0,'regular',2020-12-31,'',2020-12-31,19.0)\n44\ninsert into series values (2037725,'https://www.tvmaze.com/episodes/2037725/aile-sirketi-2x07-7-bolum','44',2,7.0,'regular',2020-12-31,'',2020-12-31,20.0)\n45\ninsert into series values (1988424,'https://www.tvmaze.com/episodes/1988424/sokagin-cocuklari-2x04-4-bolum','45',2,4.0,'regular',2020-12-31,'12:00',2020-12-31,40.0)\n46\ninsert into series values (1993940,'https://www.tvmaze.com/episodes/1993940/color-rush-1x02-episode-2','46',1,2.0,'regular',2020-12-31,'18:00',2020-12-31,15.0)\n47\ninsert into series values (2037532,'https://www.tvmaze.com/episodes/2037532/boom-1x04-pinar-deniz','47',1,4.0,'regular',2020-12-31,'',2020-12-31,28.0)\n48\ninsert into series values (2068252,'https://www.tvmaze.com/episodes/2068252/joe-show-5x29-haby-nyw-slalt','48',5,29.0,'regular',2020-12-31,'',2020-12-31,53.0)\n49\ninsert into series values (1996820,'https://www.tvmaze.com/episodes/1996820/cuma-s02-special-cumovoj-novyj-god-glava-2-komedia','49',2,0.0,'insignificant_special',2020-12-31,'22:00',2020-12-31,48.0)\n50\ninsert into series values (1985251,'https://www.tvmaze.com/episodes/1985251/growing-season-1x07-episode-7','50',1,7.0,'regular',2020-12-31,'19:00',2020-12-31,18.0)\n51\ninsert into series values (2017664,'https://www.tvmaze.com/episodes/2017664/masrah-masr-8x10-its-our-wedding','51',8,10.0,'regular',2020-12-31,'',2020-12-31,60.0)\n52\ninsert into series values (1996798,'https://www.tvmaze.com/episodes/1996798/alex-og-aune-1x20-de-ville-bak-fjellet','52',1,20.0,'regular',2020-12-31,'',2020-12-31,12.0)\n53\ninsert into series values (2092729,'https://www.tvmaze.com/episodes/2092729/temptation-island-love-or-leave-1x07-episode-7','53',1,7.0,'regular',2020-12-31,'',2020-12-31,45.0)\n54\ninsert into series values (1950369,'https://www.tvmaze.com/episodes/1950369/star-trek-discovery-3x12-there-is-a-tide','54',3,12.0,'regular',2020-12-31,'',2020-12-31,48.0)\n55\ninsert into series values (2083331,'https://www.tvmaze.com/episodes/2083331/masana-7x09-150-mazurik','55',7,9.0,'regular',2020-12-31,'',2020-12-31,7.0)\n56\ninsert into series values (1997814,'https://www.tvmaze.com/episodes/1997814/the-young-turks-2020-12-31-december-31-2020-hour-1','56',2020,323.0,'regular',2020-12-31,'',2020-12-31,120.0)\n57\ninsert into series values (1997815,'https://www.tvmaze.com/episodes/1997815/the-young-turks-2020-12-31-december-31-2020-hour-2','57',2020,324.0,'regular',2020-12-31,'',2020-12-31,120.0)\n58\ninsert into series values (1998673,'https://www.tvmaze.com/episodes/1998673/loudermilk-3x01-stuck-in-the-middle-with-you','58',3,1.0,'regular',2020-12-31,'',2020-12-31,30.0)\n59\ninsert into series values (1998674,'https://www.tvmaze.com/episodes/1998674/loudermilk-3x02-there-goes-my-baby','59',3,2.0,'regular',2020-12-31,'',2020-12-31,30.0)\n60\ninsert into series values (1998675,'https://www.tvmaze.com/episodes/1998675/loudermilk-3x03-american-idiot','60',3,3.0,'regular',2020-12-31,'',2020-12-31,30.0)\n61\ninsert into series values (1998676,'https://www.tvmaze.com/episodes/1998676/loudermilk-3x04-hit-me-baby-one-more-time','61',3,4.0,'regular',2020-12-31,'',2020-12-31,30.0)\n62\ninsert into series values (1998678,'https://www.tvmaze.com/episodes/1998678/loudermilk-3x05-just-what-i-needed','62',3,5.0,'regular',2020-12-31,'',2020-12-31,30.0)\n63\ninsert into series values (1998679,'https://www.tvmaze.com/episodes/1998679/loudermilk-3x06-hard-for-me-to-say-im-sorry','63',3,6.0,'regular',2020-12-31,'',2020-12-31,30.0)\n64\ninsert into series values (1998680,'https://www.tvmaze.com/episodes/1998680/loudermilk-3x07-wind-beneath-my-wings','64',3,7.0,'regular',2020-12-31,'',2020-12-31,30.0)\n65\ninsert into series values (1998681,'https://www.tvmaze.com/episodes/1998681/loudermilk-3x08-resurrection-shuffle','65',3,8.0,'regular',2020-12-31,'',2020-12-31,30.0)\n66\ninsert into series values (1998682,'https://www.tvmaze.com/episodes/1998682/loudermilk-3x09-should-have-known-better','66',3,9.0,'regular',2020-12-31,'',2020-12-31,30.0)\n67\ninsert into series values (1998683,'https://www.tvmaze.com/episodes/1998683/loudermilk-3x10-when-im-alone','67',3,10.0,'regular',2020-12-31,'',2020-12-31,30.0)\n68\ninsert into series values (2189555,'https://www.tvmaze.com/episodes/2189555/cyanide-happiness-shorts-2020-12-31-monkey-paw','68',2020,50.0,'regular',2020-12-31,'',2020-12-31,0.0)\n69\ninsert into series values (2176148,'https://www.tvmaze.com/episodes/2176148/scishow-2020-12-31-these-death-defying-salmon-just-keep-spawning','69',2020,358.0,'regular',2020-12-31,'',2020-12-31,0.0)\n70\ninsert into series values (1949329,'https://www.tvmaze.com/episodes/1949329/chilling-adventures-of-sabrina-4x01-chapter-twenty-nine-the-eldritch-dark','70',4,1.0,'regular',2020-12-31,'',2020-12-31,59.0)\n71\ninsert into series values (1949330,'https://www.tvmaze.com/episodes/1949330/chilling-adventures-of-sabrina-4x02-chapter-thirty-the-uninvited','71',4,2.0,'regular',2020-12-31,'',2020-12-31,58.0)\n72\ninsert into series values (1949331,'https://www.tvmaze.com/episodes/1949331/chilling-adventures-of-sabrina-4x03-chapter-thirty-one-the-weird','72',4,3.0,'regular',2020-12-31,'',2020-12-31,57.0)\n73\ninsert into series values (1949332,'https://www.tvmaze.com/episodes/1949332/chilling-adventures-of-sabrina-4x04-chapter-thirty-two-the-imp-of-the-perverse','73',4,4.0,'regular',2020-12-31,'',2020-12-31,60.0)\n74\ninsert into series values (1949333,'https://www.tvmaze.com/episodes/1949333/chilling-adventures-of-sabrina-4x05-chapter-thirty-three-deus-ex-machina','74',4,5.0,'regular',2020-12-31,'',2020-12-31,54.0)\n75\ninsert into series values (1949334,'https://www.tvmaze.com/episodes/1949334/chilling-adventures-of-sabrina-4x06-chapter-thirty-four-the-returned','75',4,6.0,'regular',2020-12-31,'',2020-12-31,57.0)\n76\ninsert into series values (1949335,'https://www.tvmaze.com/episodes/1949335/chilling-adventures-of-sabrina-4x07-chapter-thirty-five-the-endless','76',4,7.0,'regular',2020-12-31,'',2020-12-31,50.0)\n77\ninsert into series values (1949336,'https://www.tvmaze.com/episodes/1949336/chilling-adventures-of-sabrina-4x08-chapter-thirty-six-at-the-mountains-of-madness','77',4,8.0,'regular',2020-12-31,'',2020-12-31,63.0)\n78\ninsert into series values (1996786,'https://www.tvmaze.com/episodes/1996786/super-power-beat-down-2x05-godzilla-vs-dragonzord','78',2,5.0,'regular',2020-12-31,'',2020-12-31,10.0)\n79\ninsert into series values (1955318,'https://www.tvmaze.com/episodes/1955318/the-stand-1x03-blank-page','79',1,3.0,'regular',2020-12-31,'',2020-12-31,53.0)\n80\ninsert into series values (1996399,'https://www.tvmaze.com/episodes/1996399/neznyj-redaktor-6x03-razvod-tani-prognoz-na-2021-o-cem-my-molcali-podrugi','80',6,3.0,'regular',2020-12-31,'',2020-12-31,58.0)\n81\ninsert into series values (2042003,'https://www.tvmaze.com/episodes/2042003/game-changer-wrestling-2020-12-31-gcw-good-riddance','81',2020,30.0,'regular',2020-12-31,'',2020-12-31,120.0)\n82\ninsert into series values (1996689,'https://www.tvmaze.com/episodes/1996689/the-ready-room-3x12-there-is-a-tide','82',3,12.0,'regular',2020-12-31,'',2020-12-31,34.0)\n83\ninsert into series values (1950703,'https://www.tvmaze.com/episodes/1950703/texas-6-1x08-texas-6','83',1,8.0,'regular',2020-12-31,'',2020-12-31,0.0)\n84\ninsert into series values (2050241,'https://www.tvmaze.com/episodes/2050241/strange-heart-1x04-episode-4','84',1,4.0,'regular',2020-12-31,'',2020-12-31,28.0)\n85\ninsert into series values (1970536,'https://www.tvmaze.com/episodes/1970536/sea-him-the-series-1x05-unexpected-kiss','85',1,5.0,'regular',2020-12-31,'',2020-12-31,24.0)\n86\ninsert into series values (2005420,'https://www.tvmaze.com/episodes/2005420/yes-chef-1x03-pizzaduell-i-falkenberg','86',1,3.0,'regular',2020-12-31,'',2020-12-31,42.0)\n87\ninsert into series values (1985483,'https://www.tvmaze.com/episodes/1985483/you-complete-me-1x27-episode-27','87',1,27.0,'regular',2020-12-31,'20:00',2020-12-31,45.0)\n88\ninsert into series values (1985484,'https://www.tvmaze.com/episodes/1985484/you-complete-me-1x28-episode-28','88',1,28.0,'regular',2020-12-31,'20:00',2020-12-31,45.0)\n89\ninsert into series values (1988405,'https://www.tvmaze.com/episodes/1988405/love-teenager-1x03-my-best-friends-guy-friend-likes-me','89',1,3.0,'regular',2020-12-31,'',2020-12-31,6.0)\n90\ninsert into series values (1997537,'https://www.tvmaze.com/episodes/1997537/the-penalty-zone-1x29-episode-29','90',1,29.0,'regular',2020-12-31,'',2020-12-31,45.0)\n91\ninsert into series values (1997538,'https://www.tvmaze.com/episodes/1997538/the-penalty-zone-1x30-episode-30','91',1,30.0,'regular',2020-12-31,'',2020-12-31,45.0)\n92\ninsert into series values (2000072,'https://www.tvmaze.com/episodes/2000072/ultimate-note-1x25-episode-25','92',1,25.0,'regular',2020-12-31,'',2020-12-31,45.0)\n93\ninsert into series values (2000073,'https://www.tvmaze.com/episodes/2000073/ultimate-note-1x26-episode-26','93',1,26.0,'regular',2020-12-31,'',2020-12-31,45.0)\n94\ninsert into series values (2001665,'https://www.tvmaze.com/episodes/2001665/three-men-four-wheels-1x01-episode-1','94',1,1.0,'regular',2020-12-31,'',2020-12-31,0.0)\n95\ninsert into series values (2001666,'https://www.tvmaze.com/episodes/2001666/three-men-four-wheels-1x02-episode-2','95',1,2.0,'regular',2020-12-31,'',2020-12-31,0.0)\n96\ninsert into series values (2001667,'https://www.tvmaze.com/episodes/2001667/three-men-four-wheels-1x03-episode-3','96',1,3.0,'regular',2020-12-31,'',2020-12-31,0.0)\n97\ninsert into series values (2001668,'https://www.tvmaze.com/episodes/2001668/three-men-four-wheels-1x04-episode-4','97',1,4.0,'regular',2020-12-31,'',2020-12-31,0.0)\n98\ninsert into series values (2001669,'https://www.tvmaze.com/episodes/2001669/three-men-four-wheels-1x05-episode-5','98',1,5.0,'regular',2020-12-31,'',2020-12-31,0.0)\n99\ninsert into series values (2001670,'https://www.tvmaze.com/episodes/2001670/three-men-four-wheels-1x06-episode-6','99',1,6.0,'regular',2020-12-31,'',2020-12-31,0.0)\n100\ninsert into series values (2001671,'https://www.tvmaze.com/episodes/2001671/three-men-four-wheels-1x07-episode-7','100',1,7.0,'regular',2020-12-31,'',2020-12-31,0.0)\n101\ninsert into series values (2001672,'https://www.tvmaze.com/episodes/2001672/three-men-four-wheels-1x08-episode-8','101',1,8.0,'regular',2020-12-31,'',2020-12-31,0.0)\n102\ninsert into series values (2001673,'https://www.tvmaze.com/episodes/2001673/three-men-four-wheels-1x09-episode-9','102',1,9.0,'regular',2020-12-31,'',2020-12-31,0.0)\n103\ninsert into series values (2001674,'https://www.tvmaze.com/episodes/2001674/three-men-four-wheels-1x10-episode-10','103',1,10.0,'regular',2020-12-31,'',2020-12-31,0.0)\n104\ninsert into series values (2007691,'https://www.tvmaze.com/episodes/2007691/my-best-friends-story-1x07-episode-7','104',1,7.0,'regular',2020-12-31,'',2020-12-31,45.0)\n105\ninsert into series values (2007692,'https://www.tvmaze.com/episodes/2007692/my-best-friends-story-1x08-episode-8','105',1,8.0,'regular',2020-12-31,'',2020-12-31,45.0)\n106\ninsert into series values (2031800,'https://www.tvmaze.com/episodes/2031800/thursday-night-1x01-hany-shaker-ahmed-saad','106',1,1.0,'regular',2020-12-31,'',2020-12-31,60.0)\n107\ninsert into series values (2034364,'https://www.tvmaze.com/episodes/2034364/lulu-1x05-episode-5','107',1,5.0,'regular',2020-12-31,'',2020-12-31,40.0)\n108\ninsert into series values (2035877,'https://www.tvmaze.com/episodes/2035877/the-shore-1x04-you-and-i','108',1,4.0,'regular',2020-12-31,'',2020-12-31,30.0)\n109\ninsert into series values (2035880,'https://www.tvmaze.com/episodes/2035880/the-shore-1x05-confess','109',1,5.0,'regular',2020-12-31,'',2020-12-31,30.0)\n110\ninsert into series values (2094668,'https://www.tvmaze.com/episodes/2094668/paradka-1x02-vinovnica-torzestva','110',1,2.0,'regular',2020-12-31,'',2020-12-31,6.0)\n111\ninsert into series values (2125349,'https://www.tvmaze.com/episodes/2125349/jessis-showterview-2020-12-31-ep31-with-park-mi-sun','111',2020,31.0,'regular',2020-12-31,'',2020-12-31,22.0)\n112\ninsert into series values (2289380,'https://www.tvmaze.com/episodes/2289380/blippi-2020-12-31-learning-dinosaurs-with-blippi-educational-videos-for-kids','112',2020,55.0,'regular',2020-12-31,'',2020-12-31,0.0)\n113\ninsert into series values (2044707,'https://www.tvmaze.com/episodes/2044707/sesame-street-51x08-return-of-the-fairytale-helpers','113',51,8.0,'regular',2020-12-31,'09:00',2020-12-31,30.0)\n114\ninsert into series values (1964395,'https://www.tvmaze.com/episodes/1964395/as-five-1x08-geracao-z','114',1,8.0,'regular',2020-12-31,'12:00',2020-12-31,30.0)\n115\ninsert into series values (2036956,'https://www.tvmaze.com/episodes/2036956/wwe-main-event-9x53-main-event-431','115',9,53.0,'regular',2020-12-31,'',2020-12-31,60.0)\n116\ninsert into series values (1980781,'https://www.tvmaze.com/episodes/1980781/tyler-perrys-ruthless-1x20-the-dark-walkers','116',1,20.0,'regular',2020-12-31,'',2020-12-31,49.0)\n117\ninsert into series values (1962893,'https://www.tvmaze.com/episodes/1962893/terror-lake-drive-1x06-thug','117',1,6.0,'regular',2020-12-31,'',2020-12-31,38.0)\n118\ninsert into series values (2234295,'https://www.tvmaze.com/episodes/2234295/forteresses-assiegees-batailles-de-legende-1x01-the-daunting-fortress-of-richard-the-lionheart','118',1,1.0,'regular',2020-12-31,'',2020-12-31,52.0)\n119\ninsert into series values (2234296,'https://www.tvmaze.com/episodes/2234296/forteresses-assiegees-batailles-de-legende-1x02-the-siege-of-la-rochelle-the-battle-of-the-megastructures','119',1,2.0,'regular',2020-12-31,'',2020-12-31,51.0)\n120\ninsert into series values (2234297,'https://www.tvmaze.com/episodes/2234297/forteresses-assiegees-batailles-de-legende-1x03-the-siege-of-orleans-joans-fortress','120',1,3.0,'regular',2020-12-31,'',2020-12-31,51.0)\n121\ninsert into series values (2236494,'https://www.tvmaze.com/episodes/2236494/notruf-hafenkante-15x13-nur-ein-atemzug','121',15,13.0,'regular',2020-12-31,'19:25',2020-12-31,45.0)\n122\ninsert into series values (1977423,'https://www.tvmaze.com/episodes/1977423/goede-tijden-slechte-tijden-31x72-aflevering-6327','122',31,72.0,'regular',2020-12-31,'20:00',2020-12-31,23.0)\n123\ninsert into series values (1976649,'https://www.tvmaze.com/episodes/1976649/wwe-nxt-uk-2020-12-31-episode-53','123',2020,53.0,'regular',2020-12-31,'15:00',2020-12-31,60.0)\n124\ninsert into series values (2005096,'https://www.tvmaze.com/episodes/2005096/carl-webers-the-family-business-2x07-take-no-prisoners','124',2,7.0,'regular',2020-12-31,'21:00',2021-01-01,60.0)\n125\ninsert into series values (2005098,'https://www.tvmaze.com/episodes/2005098/carl-webers-the-family-business-2x08-the-nuclear-option','125',2,8.0,'regular',2020-12-31,'21:00',2021-01-01,60.0)\n126\ninsert into series values (2005099,'https://www.tvmaze.com/episodes/2005099/carl-webers-the-family-business-2x09-mothers-and-their-sons','126',2,9.0,'regular',2020-12-31,'21:00',2021-01-01,60.0)\n127\ninsert into series values (2005100,'https://www.tvmaze.com/episodes/2005100/carl-webers-the-family-business-2x10-i-dont-want-to-lose-my-queen','127',2,10.0,'regular',2020-12-31,'21:00',2021-01-01,60.0)\n128\ninsert into series values (2005101,'https://www.tvmaze.com/episodes/2005101/carl-webers-the-family-business-2x11-deploy-the-drones','128',2,11.0,'regular',2020-12-31,'21:00',2021-01-01,60.0)\n129\ninsert into series values (2005102,'https://www.tvmaze.com/episodes/2005102/carl-webers-the-family-business-2x12-the-hunt-for-brother-x','129',2,12.0,'regular',2020-12-31,'21:00',2021-01-01,60.0)\ntotal registros 129\n",
     "output_type": "stream"
    }
   ]
  },
  {
   "cell_type": "code",
   "metadata": {
    "cell_id": "85e4b20234c94f2592f3a50375ad4529",
    "tags": [],
    "deepnote_to_be_reexecuted": true,
    "source_hash": "6f805bf4",
    "execution_start": 1656649306214,
    "execution_millis": 4,
    "deepnote_cell_type": "code"
   },
   "source": "import sqlite3 as sql\n\ndef createDB():\n    conn  = sql.connect(\"streamers.db\")\n    conn.commit()\n    conn.close()\n    \ndef createTable():\n    conn=sql.connect('streamers.db')\n    cursor = conn.cursor()\n    cursor.execute(\n        \"\"\"\n        create table streamers(\n            name text,\n            followers integer,\n            subs integer          \n            )\n        \"\"\"\n        )\n    conn.commit()\n    conn.close()\n    \n    \ndef insertRow(nombre,followers,subs):\n    conn=sql.connect('streamers.db')\n    cursor = conn.cursor()\n    instruccion = f\"insert into streamers values ('{nombre}',{followers},{subs})\"\n    cursor.execute(instruccion)\n    conn.commit()\n    conn.close()\n    print(instruccion)\n    \ndef insertRowMasive(listastreamers):\n    conn=sql.connect('streamers.db')\n    cursor = conn.cursor()\n    instruccion = f\"insert into streamers values (?,?,?)\"\n    cursor.executemany(instruccion,listastreamers)\n    conn.commit()\n    conn.close()\n    print(instruccion)\n    \n    \ndef readRow():\n    conn=sql.connect('streamers.db')\n    cursor = conn.cursor()\n    instruccion = f\"SELECT * FROM streamers\"\n    cursor.execute(instruccion)\n    datos = cursor.fetchall()\n    conn.commit()\n    conn.close()\n    print(datos)\n    \ndef readOrdered(field):\n    conn=sql.connect('streamers.db')\n    cursor = conn.cursor()\n    instruccion = f\"SELECT * FROM streamers order by {field}\"\n    cursor.execute(instruccion)\n    datos = cursor.fetchall()\n    conn.commit()\n    conn.close()\n    print(datos)\n\n\n#createDB()\n#createTable()\n#insertRow(\"ibai\", 7000000, 25000)\n#insertRow(\"sergio\", 7000000, 25000)\n#readRow()\n\n#istastreamers = [('ibai', 7000000, 25000), ('sergio', 7000000, 25000)]\n#insertRowMasive(listastreamers)\n#readRow()\n\n\n#readOrdered('subs')",
   "execution_count": null,
   "outputs": []
  },
  {
   "cell_type": "markdown",
   "source": "### 6. El área de negocio necesita generar gráficos con la siguiente información \n### a. averageRuntime por tipo (type) por mes. \n### b. Cantidad de series emitidas por género por mes.\n### c. Porcentaje por país, con respecto al total de series emitidas por mes.\n### d. Rating promedio de series por país y género por mes.\n\n### Generar ETL(s) (en python o en sql) que lleve los datos a un modelo de datos nuevo que permita responder a las preguntas del área de negocio (puede utilizar como fuente de datos de los dataframes o la base de datos creada).",
   "metadata": {
    "cell_id": "315bc7e26c9b4e9299e0822fb456e928",
    "tags": [],
    "deepnote_cell_type": "markdown",
    "deepnote_cell_height": 450
   }
  },
  {
   "cell_type": "code",
   "metadata": {
    "cell_id": "2ee78810d2d043dba374b28f0814da66",
    "tags": [],
    "deepnote_to_be_reexecuted": false,
    "source_hash": "a4dfe388",
    "execution_start": 1656909105938,
    "execution_millis": 2,
    "deepnote_cell_type": "code",
    "deepnote_cell_height": 154.1875,
    "deepnote_output_heights": [
     21.1875
    ]
   },
   "source": "a=\"soy sergio Serrano\"\na\n",
   "outputs": [
    {
     "output_type": "execute_result",
     "execution_count": 1,
     "data": {
      "text/plain": "'soy sergio Serrano'"
     },
     "metadata": {}
    }
   ],
   "execution_count": null
  },
  {
   "cell_type": "markdown",
   "source": "Entregables:\nLink a un repositorio de github que contenga:\n\n\n● README.md (pasos de instalación/ejecución como minimo).\n\n● Carpeta src/ con el proyecto de python que desarrolló el ejercicio (notebooks o\nscripts .py).\n\n● Carpeta json/, con los json obtenidos de las consultas al API.\n\n● Carpeta profiling/, con el archivo del profiling y un archivo adicional del análisis de éste.\n\n● Carpeta db/ con el archivo de la base de datos SQLite.\n\n● Carpeta model/, con imagen del modelo de datos creado para almacenar\ninformación y para almacenar los resultados de las etls.",
   "metadata": {
    "cell_id": "b2e7f3e4ed7a4606b7656f69ad2dbea2",
    "tags": [],
    "owner_user_id": "5479a3de-caf3-4890-9634-2c463d32c229",
    "deepnote_cell_type": "markdown",
    "deepnote_cell_height": 270.734375
   }
  },
  {
   "cell_type": "markdown",
   "source": "<a style='text-decoration:none;line-height:16px;display:flex;color:#5B5B62;padding:10px;justify-content:end;' href='https://deepnote.com?utm_source=created-in-deepnote-cell&projectId=c50359c9-cd87-4b57-8988-e5432bce9b86' target=\"_blank\">\n<img alt='Created in deepnote.com' style='display:inline;max-height:16px;margin:0px;margin-right:7.5px;' src='data:image/svg+xml;base64,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' > </img>\nCreated in <span style='font-weight:600;margin-left:4px;'>Deepnote</span></a>",
   "metadata": {
    "tags": [],
    "created_in_deepnote_cell": true,
    "deepnote_cell_type": "markdown"
   }
  }
 ],
 "nbformat": 4,
 "nbformat_minor": 2,
 "metadata": {
  "orig_nbformat": 2,
  "deepnote": {},
  "deepnote_notebook_id": "323d2033-ffe9-42ce-8444-e05cac2a8719",
  "deepnote_execution_queue": []
 }
}